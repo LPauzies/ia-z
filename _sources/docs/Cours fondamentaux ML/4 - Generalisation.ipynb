{
 "cells": [
  {
   "cell_type": "markdown",
   "metadata": {
    "id": "fEZIOHGDfttn"
   },
   "source": [
    "# Généralisation d'un modèle de Machine Learning\n",
    "Un des concepts important lors de l'entraînement d'un modèle est\n",
    "sa capacité à généraliser.\n",
    "\n",
    "Nous allons ici voir quels sont les enjeux dont on parle lorsque\n",
    "l'on parle de généralisation, et comment l'évaluer."
   ]
  },
  {
   "cell_type": "markdown",
   "metadata": {
    "id": "2g3mLt0UgNOu"
   },
   "source": [
    "## Le besoin de généraliser\n",
    "Dans le schéma classique d'un apprentissage supervisé, vous voudrez un modèle capable\n",
    "de prédire une certaine valeur `y` à partir d'un ensemble de valeurs `X`.\n",
    "\n",
    "Pour qu'un tel modèle soit utile, il faut qu'il soit capable de donner une bonne solution (approximative)\n",
    "pour des données jamais observées. En effet, à quoi bon utiliser un modèle sur des données où l'on a déjà\n",
    "collecté et mesuré la valeur de `y` !\n",
    "\n",
    "Pendant l'entraînement d'un modèle, on mesure souvent sa performance sur le jeu de données utilisé pendant l'entraînement.\n",
    "Cela revient à demander à un étudiant s'il est bien capable de refaire de tête des exercices où on lui a donné\n",
    "la correction auparavant.\n",
    "Comment faire pour s'assurer qu'il est capable de réussir la plupart des exercices ?\n",
    "\n",
    "*On s'entends bien ici que l'on veut que l'étudiant réussisse des exercices qui sont bien du même cours que ceux\n",
    "sur lesquels il s'entraîne. Pour que l'analogie avec un modèle de ML fonctionne, il faudrait donc le soumettre à\n",
    "de nouvelles données qui sont issues de la même distribution.*"
   ]
  },
  {
   "cell_type": "markdown",
   "metadata": {
    "id": "7k1REuRXgYwq"
   },
   "source": [
    "## Définitions\n",
    "### Overfitting\n",
    "L'overfitting, ou sur-apprentissage en français, est le résultat d'un modèle qui a \"trop appris\". Il est parfaitement\n",
    "capable de prédire la bonne solution pour un exemple utilisé pour l'entraîné, mais il devient tout d'un coup très mauvais\n",
    "lorsqu'on l'évalue sur une toute nouvelle donnée.\n",
    "\n",
    "Dans le cas de notre étudiant, à force d'entraînement sur les quelques exercices fournis, il aura fini par remarquer\n",
    "certaines astuces qui permettent de court-circuiter des questions afin d'être plus performant. Mais ces astuces\n",
    "peuvent se révéler n'être que des coïncidences qui fonctionnent bien sur les quelques exercices mais qui sont en fait fausses.\n",
    "L'utilisation de ces fausses corrélations s'avère alors dévastateur lors de l'évaluation sur de nouveaux exercices !\n",
    "\n",
    "On parle alors de sur-entraînement. La machine a détecté des corrélations qui semblent utiles sur le jeu d'entraînement,\n",
    "mais elles sont en fait de fausses corrélations qui n'expliquent en rien la relation entre `X` et `y`.\n",
    "Cela arrive très souvent, et c'est la hantise de toute personne travaillant dans le ML.\n",
    "\n",
    "### Underfitting\n",
    "Le sous-apprentissage est ce qui arrive lorsqu'un modèle est en sous-régime.\n",
    "D'une façon ou d'une autre, le modèle pourrait faire mieux, de manière générale.\n",
    "\n",
    "Cela revient à un étudiant qui n'a pas réussi à apprendre sur les exercices d'entraînement.\n",
    "Il n'a peut-être pas assez travaillé (entraînement trop court),\n",
    "les exercices n'étaient pas assez complets (dataset trop petit),\n",
    "ou les exercices étaient simplement trop difficiles pour lui (modèle de ML inadapté).\n",
    "\n",
    "### Généralisation d'un modèle\n",
    "Un modèle généralise bien lorsqu'il performe bien sur des données provenant de\n",
    "la même distribution que celle utilisée pour l'entraînement.\n",
    "Cela signifie que sur un exemple jamais rencontré pendant l'entraînement,\n",
    "le modèle effectue de bonnes prédictions.\n",
    "\n",
    "Si un modèle généralise bien, c'est qu'**il a appris des corrélations qui\n",
    "sont utiles**.\n",
    "\n",
    "Si notre étudiant généralise, c'est que l'entraînement a porté ses fruits\n",
    "sans avoir sur-appris pour autant."
   ]
  },
  {
   "cell_type": "markdown",
   "metadata": {
    "id": "-O-JJqyrp_XK"
   },
   "source": [
    "## Exemples\n",
    "Exemple simple : générer des données y = x^2.\n",
    "\n",
    "### Overfitting\n",
    "Regression polynomiale avec un degré supérieur à 2.\n",
    "\n",
    "### Underfitting\n",
    "Regression linaire.\n",
    "\n",
    "### Généralisation\n",
    "Regression polynomiale de degré 2."
   ]
  },
  {
   "cell_type": "code",
   "execution_count": 1,
   "metadata": {
    "colab": {
     "base_uri": "https://localhost:8080/",
     "height": 279
    },
    "id": "tlwc_PZ-qDGE",
    "outputId": "7e51f49c-d79d-436a-d1a3-5b6cd0af52dc"
   },
   "outputs": [
    {
     "data": {
      "image/png": "[encoded data removed]",
      "text/plain": [
       "<Figure size 432x288 with 1 Axes>"
      ]
     },
     "metadata": {
      "needs_background": "light"
     },
     "output_type": "display_data"
    }
   ],
   "source": [
    "import numpy as np\n",
    "import matplotlib.pyplot as plt\n",
    "\n",
    "rng = np.random.default_rng(0)\n",
    "\n",
    "n_points = 5\n",
    "X = np.arange(-n_points // 2, n_points // 2)\n",
    "y = X ** 2 + 3 * X - 1 + rng.normal(scale=2, size=n_points)\n",
    "\n",
    "plt.plot(X, y, '.')\n",
    "plt.xlabel('X')\n",
    "plt.ylabel('y')\n",
    "plt.show()"
   ]
  },
  {
   "cell_type": "markdown",
   "metadata": {
    "id": "UMF2gzx7eESR"
   },
   "source": [
    "### Underfitting\n",
    "Un exemple d'underfitting sur de telles données serait de\n",
    "réaliser une simple régression linéaire.\n",
    "\n",
    "Le modèle est trop simple, la relation entre X et y est mal\n",
    "capturée par ce dernier."
   ]
  },
  {
   "cell_type": "code",
   "execution_count": 2,
   "metadata": {
    "colab": {
     "base_uri": "https://localhost:8080/",
     "height": 296
    },
    "id": "e1iuot0Heu1-",
    "outputId": "d6771f7e-7750-4674-ece6-3c96fb046149"
   },
   "outputs": [
    {
     "data": {
      "image/png": "[encoded data removed]",
      "text/plain": [
       "<Figure size 432x288 with 1 Axes>"
      ]
     },
     "metadata": {
      "needs_background": "light"
     },
     "output_type": "display_data"
    },
    {
     "name": "stdout",
     "output_type": "stream",
     "text": [
      "R² score: 0.42870723713067405\n"
     ]
    }
   ],
   "source": [
    "from sklearn.linear_model import LinearRegression\n",
    "\n",
    "X_train = X.reshape(-1, 1)\n",
    "\n",
    "model = LinearRegression()\n",
    "model.fit(X_train, y)\n",
    "\n",
    "y_pred = model.predict(X_train)\n",
    "\n",
    "plt.plot(X, y, '.', label='real')\n",
    "plt.plot(X, y_pred, label='pred')\n",
    "\n",
    "plt.xlabel('X')\n",
    "plt.ylabel('y')\n",
    "plt.legend()\n",
    "\n",
    "plt.show()\n",
    "\n",
    "r_squared = model.score(X_train, y)\n",
    "print('R² score:', r_squared)"
   ]
  },
  {
   "cell_type": "markdown",
   "metadata": {
    "id": "4YOEY8Z9gALk"
   },
   "source": [
    "### Overfitting\n",
    "Un moyen d'améliorer le modèle assez facilement est de générer les relations\n",
    "non-linéaires en amont avant d'entraîner le modèle linéaire.\n",
    "\n",
    "On peut ainsi générer de nouvelles features, à partir d'intéractions polynomiales.\n",
    "On choisit le degré du polynôme en tant qu'hyperparamètre.\n",
    "Cependant, il faut être précautionneux dans le choix de cet hyperparamètre.\n",
    "Il peut facilement mener à un régime d'overfitting. En effet,\n",
    "il est facile d'interpôler un polynôme sur un certain nombre de point,\n",
    "Mais le comportement du polynôme en dehors de ces points est ensuite très arbitraire."
   ]
  },
  {
   "cell_type": "code",
   "execution_count": 3,
   "metadata": {
    "colab": {
     "base_uri": "https://localhost:8080/",
     "height": 296
    },
    "id": "VW3315Jmg-op",
    "outputId": "802ae37d-5e4a-4a46-838c-43c89376729f"
   },
   "outputs": [
    {
     "data": {
      "image/png": "[encoded data removed]",
      "text/plain": [
       "<Figure size 432x288 with 1 Axes>"
      ]
     },
     "metadata": {
      "needs_background": "light"
     },
     "output_type": "display_data"
    },
    {
     "name": "stdout",
     "output_type": "stream",
     "text": [
      "R² score: 1.0\n"
     ]
    }
   ],
   "source": [
    "degre_polynome = 7\n",
    "\n",
    "X_train = np.array([\n",
    "    X ** d\n",
    "    for d in range(1, degre_polynome + 1)\n",
    "]).swapaxes(1, 0)\n",
    "\n",
    "model = LinearRegression()\n",
    "model.fit(X_train, y)\n",
    "\n",
    "X_range = np.linspace(-n_points // 2 - 1, n_points // 2, num=100)\n",
    "X_eval = np.array([\n",
    "    X_range ** d\n",
    "    for d in range(1, degre_polynome + 1)\n",
    "]).swapaxes(1, 0)\n",
    "y_pred = model.predict(X_eval)\n",
    "\n",
    "plt.plot(X, y, '.', label='real')\n",
    "plt.plot(X_range, y_pred, label='pred')\n",
    "\n",
    "plt.xlabel('X')\n",
    "plt.ylabel('y')\n",
    "plt.legend()\n",
    "\n",
    "plt.show()\n",
    "\n",
    "r_squared = model.score(X_train, y)\n",
    "print('R² score:', r_squared)"
   ]
  },
  {
   "cell_type": "markdown",
   "metadata": {
    "id": "0J2WQikxojc-"
   },
   "source": [
    "On peut voir que ce modèle, bien qu'il ait des performances parfaites (R² = 1)\n",
    "a un mauvais comportement en dehors des points d'entraînement.\n",
    "Dès qu'on lui demande les valeurs de y pour des X qu'il n'a jamais vu lors\n",
    "de l'entraînement, la réponse est au mieux approximative, et au pire complètement fausse !"
   ]
  },
  {
   "cell_type": "markdown",
   "metadata": {
    "id": "ajBPKJ0OoLkP"
   },
   "source": [
    "### Généralisation\n",
    "\n",
    "Un meilleur modèle que le précédent est un modèle dont on a bridé\n",
    "un peu les performances, en lui permettant de n'avoir\n",
    "accès qu'à des features d'un degré moins élevé."
   ]
  },
  {
   "cell_type": "code",
   "execution_count": 4,
   "metadata": {
    "colab": {
     "base_uri": "https://localhost:8080/",
     "height": 296
    },
    "id": "CKXkcHZopFNb",
    "outputId": "73c6696f-05d8-40ca-f701-6a1778487e89"
   },
   "outputs": [
    {
     "data": {
      "image/png": "[encoded data removed]",
      "text/plain": [
       "<Figure size 432x288 with 1 Axes>"
      ]
     },
     "metadata": {
      "needs_background": "light"
     },
     "output_type": "display_data"
    },
    {
     "name": "stdout",
     "output_type": "stream",
     "text": [
      "Score R² sur entraînement: 0.9137936586866177\n"
     ]
    }
   ],
   "source": [
    "degre_polynome = 2\n",
    "\n",
    "X_train = np.array([\n",
    "    X ** d\n",
    "    for d in range(1, degre_polynome + 1)\n",
    "]).swapaxes(1, 0)\n",
    "\n",
    "model = LinearRegression()\n",
    "model.fit(X_train, y)\n",
    "\n",
    "X_range = np.linspace(-n_points // 2 - 1, n_points // 2, num=100)\n",
    "X_eval = np.array([\n",
    "    X_range ** d\n",
    "    for d in range(1, degre_polynome + 1)\n",
    "]).swapaxes(1, 0)\n",
    "y_pred = model.predict(X_eval)\n",
    "\n",
    "plt.plot(X, y, '.', label='real')\n",
    "plt.plot(X_range, y_pred, label='pred')\n",
    "\n",
    "plt.xlabel('X')\n",
    "plt.ylabel('y')\n",
    "plt.legend()\n",
    "\n",
    "plt.show()\n",
    "\n",
    "r_squared = model.score(X_train, y)\n",
    "print('Score R² sur entraînement:', r_squared)"
   ]
  },
  {
   "cell_type": "markdown",
   "metadata": {
    "id": "tSH8xPsqpg33"
   },
   "source": [
    "Ici, ce modèle a un comportement qui correspond bien plus au comportement voulu.\n",
    "Bien qu'il ait un R² plus faible que le précédent sur le jeu d'entraînement,\n",
    "Il n'a pas sur-appris et effectue des prédictions bien plus justes en dehors des points d'entraînement.\n",
    "\n",
    "Le meilleur modèle ici est un modèle avec un degré 2, car c'est ainsi qu'ont été générées les données.\n",
    "Cependant, un tel modèle n'aura jamais un R² à 1, car il y a un bruit intrinsèque dans la génération des données. Ce genre de bruit peut amener\n",
    "un modèle de ML à faire des corrélations qui sont en fait que des coïncidences.\n",
    "Réduire la capacité d'un modèle permet d'éviter d'apprendre sur ce bruit et de\n",
    "ce concentrer sur l'essentiel.\n",
    "\n",
    "Dans le monde réel, le bruit est partout dans nos données et on ne peut\n",
    "s'en séparer lors de l'entraînement d'un modèle. Il faut faire avec !\n",
    "Le bruit peut provenir d'une imprécision dans les mesures ou d'un comportement\n",
    "aléatoire intrinsèque de ce qui est mesuré."
   ]
  },
  {
   "cell_type": "markdown",
   "metadata": {
    "id": "rbdTNbfrnLBo"
   },
   "source": [
    "## Évaluer la généralisation d'un modèle\n",
    "On a donc besoin d'évaluer le pouvoir de généralisation de nos modèles.\n",
    "En fait on peut voir sur les exemples précédents que le meilleur moyen de détecter un mauvais comportement du modèle est de le\n",
    "tester sur des données qu'il n'a jamais vues auparavant. Le plus simple est donc de diviser les données en deux groupes :\n",
    "\n",
    "* **Données d'entraînement**\n",
    "* **Données de test**\n",
    "\n",
    "Le premier jeu de données est utilisé pour entraîner le modèle, le second pour évaluer la capacité du modèle à généraliser à de nouveaux exemples.\n",
    "\n",
    "### Train/Test\n",
    "Il est donc tout le temps obligatoire de diviser les données en ces deux catégories. En anglais, on parle de **training dataset** et **testing dataset**.\n",
    "Le jeu de test doit être représentatif de la distribution des données réelle. En général, on mélange toutes nos données et on en tire au hasard 20%\n",
    "qui constitueront notre jeu de test.\n",
    "\n",
    "C'est sur le jeu de test que les performances finales du modèle peuvent être déduites. On n'utilises jamais les métriques sur le jeu d'entraînement\n",
    "comme métriques finales d'un modèle."
   ]
  },
  {
   "cell_type": "markdown",
   "metadata": {
    "id": "4t6GOD7enbSj"
   },
   "source": [
    "## La recherche d'hyperparamètres\n",
    "\n",
    "*Présentation des hyperparamètres ?*\n",
    "\n",
    "Vous venez d'entraîner un modèle, vous l'évaluer alors sur le jeu de test et vous observez des performances décevantes. Vous pensez pouvoir\n",
    "l'améliorer en modifiant quelques hyperparamètres. Ainsi, vous vous mettez à faire plusieurs aller-retours entre l'évaluation du modèle sur le jeu de test\n",
    "et l'entraînement jusqu'à atteindre ce que vous pensez être les meilleures performances atteignables par le modèle.\n",
    "\n",
    "Oui mais voilà, à force de régler vos hyperparamètres grâce au jeu de test, vous êtes en train indirectement d'optimiser le modèle sur les données de test.\n",
    "Cela revient à un étudiant de remarquer petit à petit que certaines techniques fonctionnent particulièrement bien sur le jeu de test. En fait, il est\n",
    "en train d'overfit sur le jeu de test.\n",
    "\n",
    "De manière générale, **il faut éviter au maximum de faire fuiter les informations contenues par le jeu de test dans l'entraînement de nos modèles.**\n",
    "Il faut le garder uniquement pour l'évaluation finale de notre modèle, une fois que l'on a fixé nos hyperparamètres.\n",
    "\n",
    "### Train/Val/Test\n",
    "Alors comment sélectionner nos hyperparamètres ? On utilise un troisième de jeu de données : le **jeu de données de validation**.\n",
    "C'est avec ce **validation dataset** que vous allez régler (*fine-tune*) les hyperparamètres de votre modèle.\n",
    "Ce jeu de données est tiré au hasard parmi vos données de la même façon que vous avez créer votre jeu de test.\n",
    "\n",
    "En général, voici comment je m'occupe de mes données pour créer les datasets :\n",
    "\n",
    "* **Données initiales** (*100%*):\n",
    "\n",
    "    * Données de test (*20%*)\n",
    "    * Données restantes (*80%*):\n",
    "\n",
    "        * Données de validation (*20%*)\n",
    "        * Données d'entraînement (*80%*)\n",
    "\n",
    "*Diagramme avec des patates est probablement mieux*"
   ]
  },
  {
   "cell_type": "markdown",
   "metadata": {
    "id": "D_dwUsNYsyKI"
   },
   "source": [
    "## Retour sur l'exemple : une bonne façon de faire\n",
    "On peut revenir sur l'exemple précédent avec nos polynômes en appliquant ce que nous venons de voir pour entraîner un modèle de la bonne façon.\n",
    "\n",
    "Nous générons 100 points, et nous divisons ces 100 points en les trois groupes d'entraînement, de validation et de test.\n",
    "\n",
    "Nous évaluons sur le jeu de validation ensuite plusieurs modèles entraînés sur le dataset d'entraînement. Finalement on choisit le meilleur modèle selon\n",
    "le jeu de validation et on mesure les performances finales sur le jeu de test."
   ]
  },
  {
   "cell_type": "code",
   "execution_count": 5,
   "metadata": {
    "colab": {
     "base_uri": "https://localhost:8080/",
     "height": 279
    },
    "id": "VCF_Kvw5tsZi",
    "outputId": "601bdbc6-09df-4e31-ae7e-d8df6c6785a0"
   },
   "outputs": [
    {
     "data": {
      "image/png": "[encoded data removed]",
      "text/plain": [
       "<Figure size 432x288 with 1 Axes>"
      ]
     },
     "metadata": {
      "needs_background": "light"
     },
     "output_type": "display_data"
    }
   ],
   "source": [
    "n_points = 100\n",
    "X = np.linspace(-10, 10, num=n_points)\n",
    "y = 0.5 * X**3 + X ** 2 + 3 * X - 1 + rng.normal(scale=50, size=n_points)\n",
    "\n",
    "plt.plot(X, y, '.')\n",
    "plt.xlabel('X')\n",
    "plt.ylabel('y')\n",
    "plt.show()"
   ]
  },
  {
   "cell_type": "code",
   "execution_count": 6,
   "metadata": {
    "colab": {
     "base_uri": "https://localhost:8080/",
     "height": 731
    },
    "id": "mzpccNy6u55o",
    "outputId": "de6f1fb7-914c-43b3-e520-c7a999b413a3"
   },
   "outputs": [
    {
     "name": "stdout",
     "output_type": "stream",
     "text": [
      "Score du modèle pour le degré 1\n",
      "Entraînement : 0.830\n",
      "Validation : 0.658\n",
      "\n",
      "Score du modèle pour le degré 3\n",
      "Entraînement : 0.960\n",
      "Validation : 0.885\n",
      "\n",
      "Score du modèle pour le degré 5\n",
      "Entraînement : 0.964\n",
      "Validation : 0.871\n",
      "\n",
      "Score du modèle pour le degré 10\n",
      "Entraînement : 0.966\n",
      "Validation : 0.875\n",
      "\n",
      "Score du modèle pour le degré 25\n",
      "Entraînement : 0.944\n",
      "Validation : 0.856\n",
      "\n",
      "Score du modèle pour le degré 50\n",
      "Entraînement : 0.777\n",
      "Validation : -2.964\n",
      "\n",
      "Meilleur modèle pour le degré 3\n",
      "Score final sur le jeu de test : 0.948\n"
     ]
    },
    {
     "data": {
      "image/png": "[encoded data removed]",
      "text/plain": [
       "<Figure size 432x288 with 1 Axes>"
      ]
     },
     "metadata": {
      "needs_background": "light"
     },
     "output_type": "display_data"
    }
   ],
   "source": [
    "from sklearn.model_selection import train_test_split\n",
    "\n",
    "X_train, X_test, y_train, y_test = train_test_split(X, y, test_size=0.2, random_state=0)\n",
    "X_train, X_val, y_train, y_val = train_test_split(X_train, y_train, test_size=0.2, random_state=0)\n",
    "\n",
    "def polynome_features(X: np.ndarray, degres: int) -> np.ndarray:\n",
    "    return np.array([\n",
    "        X ** d\n",
    "        for d in range(1, degres + 1)\n",
    "    ]).swapaxes(1, 0)\n",
    "\n",
    "\n",
    "def train_model(X: np.ndarray, y: np.ndarray, degres: int) -> LinearRegression:\n",
    "    X = polynome_features(X, degres)\n",
    "\n",
    "    model = LinearRegression()\n",
    "    model.fit(X, y)\n",
    "    return model\n",
    "\n",
    "def eval_model(\n",
    "        model: LinearRegression,\n",
    "        X: np.ndarray,\n",
    "        y: np.ndarray,\n",
    "        degres: int\n",
    "    ) -> float:\n",
    "    X = polynome_features(X, degres)\n",
    "    return model.score(X, y)\n",
    "\n",
    "\n",
    "degres = [1, 3, 5, 10, 25, 50]\n",
    "best_degre, best_r_squared = 1, 0\n",
    "for degre_polynome in degres:\n",
    "    model = train_model(X_train, y_train, degre_polynome)\n",
    "    r_squared_train = eval_model(model, X_train, y_train, degre_polynome)\n",
    "    r_squared_val = eval_model(model, X_val, y_val, degre_polynome)\n",
    "    print(f'Score du modèle pour le degré {degre_polynome}')\n",
    "    print(f'Entraînement : {r_squared_train:.3f}')\n",
    "    print(f'Validation : {r_squared_val:.3f}\\n')\n",
    "\n",
    "    if best_r_squared < r_squared_val:\n",
    "        best_r_squared = r_squared_val\n",
    "        best_degre = degre_polynome\n",
    "\n",
    "\n",
    "print(f'Meilleur modèle pour le degré {best_degre}')\n",
    "model = train_model(X_train, y_train, best_degre)\n",
    "r_squared_test = eval_model(model, X_test, y_test, best_degre)\n",
    "print(f'Score final sur le jeu de test : {r_squared_test:.3f}')\n",
    "\n",
    "y_pred = model.predict(polynome_features(X, best_degre))\n",
    "plt.plot(X, y, '.', label='real')\n",
    "plt.plot(X, y_pred, '.', label='pred')\n",
    "\n",
    "plt.xlabel('X')\n",
    "plt.ylabel('y')\n",
    "\n",
    "plt.legend()\n",
    "plt.show()"
   ]
  },
  {
   "cell_type": "markdown",
   "metadata": {
    "id": "tUwPVvym4aaj"
   },
   "source": [
    "On remarque que le degré final est celui théoriquement attendu.\n",
    "Notre modèle généralise bien.\n",
    "Il est possible d'aller plus loin en réduisant expressement l'overfitting dans la fonction de loss, cela sera abordé au prochain chapitre !"
   ]
  },
  {
   "cell_type": "markdown",
   "metadata": {
    "id": "J--JoCxbne37"
   },
   "source": [
    "## Détails supplémentaires\n",
    "Chaque paramètre doit être entraîné uniquement à l'aide du jeu d'entraînement. Ainsi, même lors du preprocessing de vos données,\n",
    "vous devez faire en sorte que tout information utilisée doit provenir du jeu d'entraînement uniquement. Par exemple, si vous\n",
    "décidez de normaliser vos données selon une loi normale, vous devez utiliser la moyenne et l'écart-type du jeu d'entraînement\n",
    "pour normaliser toutes vos données. Une erreur classique serait d'utiliser la moyenne et l'écart-type de chaque jeu de données pour la normalisation."
   ]
  },
  {
   "cell_type": "markdown",
   "metadata": {
    "id": "NPY3M1Gbnmi7"
   },
   "source": [
    "## Conclusion\n",
    "Nous avons besoin de s'assurer qu'un modèle généralise bien. Il est toujours possible de trouver des corrélations statistiques\n",
    "(voir `Spurious Correlations`) dans les données d'entraînement qui semblent expliquer les quelques détails qui améliorent les performances des prédictions.\n",
    "Or ces petites coïcidences ne permettent pas d'expliquer la relation entre `X` et `y`.\n",
    "\n",
    "Dans le meilleur des mondes, nous n'aurions pas besoin d'évaluer la généralisation d'un modèle si nous possédions toutes les données possibles et imaginables pour\n",
    "la tâche considérée. Mais c'est malheureusement impossible (*et cela rendrait d'ailleurs le ML beaucoup moins utile*), il faut donc s'assurer l'utilité du modèle\n",
    "une fois hors de l'entraînement.\n",
    "\n",
    "Enfin, il est intéressant que nous évaluons ici la généralisation d'un modèle sur son domaine de distribution. Sachez qu'il existe\n",
    "toute une branche de l'IA qui se concentre sur la capacité des modèles à généraliser sur d'autres domaines que celui utilisé pour l'entraînement.\n",
    "On parle alors de *généralisation Out-of-Distribution*."
   ]
  },
  {
   "cell_type": "markdown",
   "metadata": {
    "id": "-zpq6B4lnp3N"
   },
   "source": [
    "## Sources\n",
    "https://tylervigen.com/spurious-correlations\n",
    "\n",
    "https://out-of-distribution-generalization.com/"
   ]
  },
  {
   "cell_type": "code",
   "execution_count": 6,
   "metadata": {
    "id": "AwXPy-epfMFk"
   },
   "outputs": [],
   "source": []
  }
 ],
 "metadata": {
  "colab": {
   "collapsed_sections": [],
   "name": "4 - Généralisation d'un modèle.ipynb",
   "provenance": []
  },
  "kernelspec": {
   "display_name": "Python 3 (ipykernel)",
   "language": "python",
   "name": "python3"
  },
  "language_info": {
   "codemirror_mode": {
    "name": "ipython",
    "version": 3
   },
   "file_extension": ".py",
   "mimetype": "text/x-python",
   "name": "python",
   "nbconvert_exporter": "python",
   "pygments_lexer": "ipython3",
   "version": "3.10.4"
  }
 },
 "nbformat": 4,
 "nbformat_minor": 4
}
