{
 "cells": [
  {
   "cell_type": "markdown",
   "metadata": {
    "id": "ymiyZFwOku6i"
   },
   "source": [
    "# Introduction à la régression : la régression linéaire\n",
    "Nous allons voir dans ce chapitre un premier exemple de régression en présentant la méthode de régression linéaire.\n",
    "\n",
    "La régression linéaire est l’un des outils les plus basiques en Machine Learning. Comme son nom l'indique,\n",
    "cette méthode résoût une tâche de régression à l'aide d'une droite linéaire.\n",
    "Elle est limitée par sa capacité à ne modéliser que des droites, mais elle a l'avantage d'être simple,\n",
    "interprétable et robuste à de nouvelles données."
   ]
  },
  {
   "cell_type": "markdown",
   "metadata": {},
   "source": [
    "## La régression\n",
    "La tâche de régression a pour but de déterminer la relation entre nos caractéristiques $x$ et la cible $y$, *où $y$ est un nombre réel*.\n",
    "\n",
    "Supposons que vous êtes agent immobilier et que vous avez répertorié un grand jeu de données concernant des appartements.\n",
    "Pour chaque appartement, vous avez un ensemble de caractéristiques $x$ : sa surface, son prix, son niveau d'isolation...\n",
    "L'objectif est d'en extraire un modèle mathématique suffisament fiable pour que vous puissiez déterminer\n",
    "le prix $y$ d'un appartement lorsque vous le visitez à partir de ses caractéristiques.\n",
    "\n",
    "Une régression linéaire va permettre de faire le lien entre les caractéristiques et le prix de l'appartement.\n",
    "\n",
    "On parle de régression simple lorsque le prix n'est lié qu'à une seule variable explicative, par exemple la surface.\n",
    "Mais vous imaginez bien qu'à surface égale, un appartement situé proche du centre ville et des services\n",
    "sera plus cher qu'un bien situé en périphérie.\n",
    "Dans ce cas là, il faut déterminer le prix en fonction de plusieurs variables explcatives.\n",
    "On parle alors de régression multiple."
   ]
  },
  {
   "cell_type": "markdown",
   "metadata": {},
   "source": [
    "## Notre modèle linéaire\n",
    "Pour résoudre cette tâche de régression, nous modélisons la relation entre nos couples $(x, y)$ par une droite :\n",
    "\n",
    "$$\n",
    "\\hat y = \\sum_{i=1}^D a_i x_i + b\n",
    "$$\n",
    "\n",
    "*Rappel : $x = (x_1, x_2, \\dotsc, x_D)$ est un vecteur de caractéristiques à $D$ dimensions.*\n",
    "\n",
    "Le modèle effectue donc une combinaison linéaire de toutes les features pour produire une valeur finale représentant la valeur prédite.\n",
    "L'apprentissage de ce modèle se fait en déterminant les $D+1$ valeurs du vecteur $a = (a_1, a_2, \\dotsc, a_D)$ et du biais $b$,\n",
    "ce sont ses paramètres."
   ]
  },
  {
   "cell_type": "code",
   "execution_count": 1,
   "metadata": {},
   "outputs": [],
   "source": [
    "import numpy as np\n",
    "import plotly.graph_objects as go"
   ]
  },
  {
   "cell_type": "code",
   "execution_count": 1,
   "metadata": {},
   "outputs": [
    {
     "data": {
      "text/html": [
       "<iframe\n",
       "    scrolling=\"no\"\n",
       "    width=\"100%\"\n",
       "    height=\"545px\"\n",
       "    src=\"iframe_figures/figure_33.html\"\n",
       "    frameborder=\"0\"\n",
       "    allowfullscreen\n",
       "></iframe>\n"
      ]
     },
     "metadata": {},
     "output_type": "display_data"
    }
   ],
   "source": [
    "def f(x: np.ndarray, a: float, b: float) -> np.ndarray:\n",
    "    return a * x + b\n",
    "\n",
    "x = np.arange(10)\n",
    "a_list = [0, 1, 2]\n",
    "b_list = [1, 3, 0]\n",
    "\n",
    "fig = go.Figure()\n",
    "\n",
    "for a, b in zip(a_list, b_list) :\n",
    "    y = f(x, a, b)\n",
    "    fig.add_scatter(x=x, y=y, name=f\"a = {a}, b = {b}\", mode=\"lines\")\n",
    "\n",
    "fig.update_layout(\n",
    "    title=f\"Plusieurs droites selon des valeurs a et b différentes\",\n",
    "    xaxis_title=\"x\",\n",
    "    yaxis_title=\"ŷ = ax + b\",\n",
    "    legend_title=\"Valeur des paramètres\",\n",
    ")\n",
    "fig.show('iframe')"
   ]
  },
  {
   "cell_type": "markdown",
   "metadata": {},
   "source": [
    "Pour mieux se rendre compte de ce que font les paramètres $a$ et $b$,\n",
    "on peut afficher le tracé de quelques droites dans le cas où $x$ (et donc $a$) n'a qu'une dimension.\n",
    "\n",
    "Visuellement, $a$ contrôle la pente de la courbe et $b$ contrôle la hauteur à l'origine $(0, 0)$."
   ]
  },
  {
   "cell_type": "markdown",
   "metadata": {},
   "source": [
    "## Exemple simple\n",
    "Pour illustrer cette méthode, nous allons utiliser un dataset fictif et entraîner le modèle à l'aide de `scikit-learn`.\n",
    "*Scikit-learn* est une librairie qui implémente beaucoup d'algorithmes de Machine Learning et dont la manipulation est simplissime.\n",
    "\n",
    "On génère notre dataset à l'aide d'une relation linéaire de la même forme que celle de notre modèle, en ajoutant un peu de bruit pour\n",
    "être un peu plus réaliste."
   ]
  },
  {
   "cell_type": "code",
   "execution_count": 22,
   "metadata": {},
   "outputs": [
    {
     "data": {
      "text/html": [
       "<iframe\n",
       "    scrolling=\"no\"\n",
       "    width=\"100%\"\n",
       "    height=\"545px\"\n",
       "    src=\"iframe_figures/figure_22.html\"\n",
       "    frameborder=\"0\"\n",
       "    allowfullscreen\n",
       "></iframe>\n"
      ]
     },
     "metadata": {},
     "output_type": "display_data"
    }
   ],
   "source": [
    "import plotly.express as px\n",
    "import matplotlib.pyplot as plt\n",
    "\n",
    "x = np.linspace(0, 10, 100)\n",
    "a = 1.5\n",
    "b = 0.3\n",
    "rng = np.random.default_rng(0)\n",
    "y = a * x + b + rng.standard_normal(len(x))\n",
    "\n",
    "fig = go.Figure()\n",
    "fig.add_trace(\n",
    "    go.Scatter(\n",
    "        x=x, y=y,\n",
    "        name=f'a={a:.2f}, b={b:.2f}',\n",
    "        mode='markers'\n",
    "    )\n",
    ")\n",
    "fig.update_layout(\n",
    "    title=f\"Dataset généré aléatoirement (a={a}, b={b})\",\n",
    "    xaxis_title=\"x\",\n",
    "    yaxis_title=\"y = ax + b + bruit\",\n",
    ")\n",
    "fig['data'][0]['showlegend'] = True\n",
    "fig.show('iframe')"
   ]
  },
  {
   "cell_type": "code",
   "execution_count": 23,
   "metadata": {},
   "outputs": [
    {
     "data": {
      "text/html": [
       "<iframe\n",
       "    scrolling=\"no\"\n",
       "    width=\"100%\"\n",
       "    height=\"545px\"\n",
       "    src=\"iframe_figures/figure_23.html\"\n",
       "    frameborder=\"0\"\n",
       "    allowfullscreen\n",
       "></iframe>\n"
      ]
     },
     "metadata": {},
     "output_type": "display_data"
    }
   ],
   "source": [
    "from sklearn.linear_model import LinearRegression\n",
    "\n",
    "X = x.reshape(-1, 1)\n",
    "\n",
    "model = LinearRegression()\n",
    "model.fit(X, y)\n",
    "\n",
    "a_learn = model.coef_[0]\n",
    "b_learn = model.intercept_\n",
    "\n",
    "y_pred = model.predict(X)\n",
    "\n",
    "fig = go.Figure()\n",
    "fig.add_trace(\n",
    "    go.Scatter(\n",
    "        x=x, y=y,\n",
    "        name=f'a={a:.2f}, b={b:.2f} | réel',\n",
    "        mode='markers'\n",
    "    )\n",
    ")\n",
    "fig.add_trace(\n",
    "    go.Scatter(\n",
    "        x=x, y=y_pred,\n",
    "        name=f'a={a_learn:.2f}, b={b_learn:.2f} | prédiction',\n",
    "        mode='lines')\n",
    ")\n",
    "fig.update_layout(\n",
    "    title=f\"Prédiction vs valeur réelle\",\n",
    "    xaxis_title=\"x\",\n",
    "    yaxis_title=\"y\",\n",
    ")\n",
    "fig.show('iframe')"
   ]
  },
  {
   "cell_type": "markdown",
   "metadata": {},
   "source": [
    "On peut voir que le modèle a appris des paramètres très proches des coefficients initiaux utilisés pour générer le dataset.\n",
    "\n",
    "Bien entendu, il faut bien comprendre que dans un cas réel d'utilisation, nous n'avons pas la connaissance de la vraie valeur de $a$ et $b$.\n",
    "Pire que ça, on ne sait même pas si la relation entre $x$ et $y$ sous-jacente est vraiment linéaire ou non !\n",
    "Notre modèle permet d'obtenir une image simplifiée du phénomène qui relie $x$ et $y$."
   ]
  },
  {
   "cell_type": "markdown",
   "metadata": {},
   "source": [
    "## Évaluation d'une régression\n",
    "Dans notre exemple simple précédent, nous avons pu visuellement nous rendre compte de la performance de notre modèle.\n",
    "Cependant ce n'est pas tout le temps facile d'obtenir une telle visualisation, et puis c'est plus pratique d'avoir un\n",
    "score un peu plus objectif afin de comparer plusieurs méthodes sur une même tâche.\n",
    "\n",
    "Il existe donc des métriques permettant d'évaluer nos modèles afin de mieux juger leur performance."
   ]
  },
  {
   "cell_type": "markdown",
   "metadata": {},
   "source": [
    "### Mean Squared Error (MSE)\n",
    "La MSE mesure l'écart moyen entre la prédiction d'un modèle et la valeur réelle attendue.\n",
    "Des prédictions parfaites produisent un MSE valant $0$.\n",
    "Plus un modèle est bon et plus il aura un score proche de $0$.\n",
    "\n",
    "$$\n",
    "\\text{MSE} = \\frac{1}{N} \\sum_{i=1}^N (y_i - \\hat y_i)^2\n",
    "$$\n",
    "\n",
    "Ici :\n",
    "* Nous avons $N$ différents exemples dans notre dataset.\n",
    "* $y_i$ est la valeur réelle pour l'exemple numéro $i$.\n",
    "* $\\hat y_i$ est la valeur prédite par le modèle pour cet exemple $i$.\n",
    "\n",
    "La MSE est une fonction pratique en optimisation car elle est convexe (minimum unique) et dérivable partout.\n",
    "Pour cette raison, elle est souvent utilisée comme objectif à minimiser en plus de simple mesure de performance.\n",
    "\n",
    "Le calcul de la MSE peut se faire ainsi dans notre exemple précédent :"
   ]
  },
  {
   "cell_type": "code",
   "execution_count": 4,
   "metadata": {},
   "outputs": [
    {
     "name": "stdout",
     "output_type": "stream",
     "text": [
      "MSE = 0.924\n"
     ]
    }
   ],
   "source": [
    "from sklearn.metrics import mean_squared_error\n",
    "\n",
    "mse = mean_squared_error(y, y_pred)\n",
    "print(f'MSE = {mse:.3f}')"
   ]
  },
  {
   "cell_type": "markdown",
   "metadata": {},
   "source": [
    "### Coefficient de détermination $R^2$\n",
    "Le $R^2$ mesure la capacité du modèle à prédire les variations de $y$.\n",
    "On compare le modèle à un modèle basique qui prédirait simplement la moyenne $\\bar y = \\frac{1}{N} \\sum_{i=1}^N y$.\n",
    "\n",
    "$$\n",
    "R^2 = 1 - \\frac{ \\sum_{i=1}^N (y_i - \\hat y_i)^2 }{ \\sum_{i=1}^N (y_i - \\bar y)^2 }\n",
    "$$\n",
    "\n",
    "On peut analyser le calcul ainsi :\n",
    "* Le numérateur représente la MSE de notre modèle.\n",
    "* Le dénominateur représente la MSE d'un modèle qui prédirait tout le temps la valeur moyenne $\\bar y$.\n",
    "\n",
    "Ainsi, plusieurs cas se distinguent :\n",
    "* $R^2 = 1$ : le modèle effectue des prédictions parfaites (il a un MSE = 0).\n",
    "* $R^2 = 0$ : le modèle a la même MSE qu'un modèle prédisant la valeur moyenne $\\bar y$.\n",
    "* $R^2 > 0$ : le modèle est meilleur qu'un modèle prédisant la valeur moyenne $\\bar y$.\n",
    "* $R^2 < 0$ : le modèle est moins bon qu'un modèle prédisant la valeur moyenne $\\bar y$.\n",
    "\n",
    "Cette mesure synthétise la pertinence de notre modèle en une seule valeur.\n",
    "Pour notre exemple précédent, on peut l'obtenir ainsi :"
   ]
  },
  {
   "cell_type": "code",
   "execution_count": 5,
   "metadata": {},
   "outputs": [
    {
     "name": "stdout",
     "output_type": "stream",
     "text": [
      "R² = 0.955\n"
     ]
    }
   ],
   "source": [
    "from sklearn.metrics import r2_score\n",
    "\n",
    "r2 = r2_score(y, y_pred)\n",
    "print(f'R² = {r2:.3f}')"
   ]
  },
  {
   "cell_type": "markdown",
   "metadata": {
    "id": "gD4F6zRnmGVk"
   },
   "source": [
    "## La régression linéaire c’est sympa, mais comment ça marche ?\n",
    "Chaque méthode de régression a sa propre façon d'apprendre à partir d'un dataset.\n",
    "Ce chapitre se concentre sur l'exemple de la régression linéaire donc nous allons regarder de plus près comment\n",
    "ce modèle fonctionne plus précisémment.\n",
    "\n",
    "Nous avons déjà vu la manière dont la régression linéaire effectue ses prédictions une fois que les paramètres $a$ et $b$ sont appris.\n",
    "Nous allons maintenant nous attaquer à l’apprentissage ces paramètres !\n",
    "\n",
    "### Principe général\n",
    "Comme on l'a vu, on peut mesurer la performance d'un modèle par sa MSE évaluée sur le dataset.\n",
    "Pour améliorer notre modèle, on cherche à minimiser la MSE en trouvant les bonnes valeurs de notre vecteur $a$ et de notre réel $b$.\n",
    "\n",
    "$$\n",
    "a^*, b^* = \\arg \\min_{a, b} \\frac{1}{N} \\sum_{i=1}^N (y_i - a^T x + b)^2\n",
    "$$\n",
    "\n",
    "On utilise la MSE comme fonction de perte car elle a de bonnes propriétés : elle est convexe et dérivable partout.\n",
    "\n",
    "*En réalité, d'autres fonctions de perte sont envisageables, et change légèrement la façon dont on considère le problème.*\n",
    "\n",
    "Pour calculer le minimum de cette fonction, on peut utiliser diverses méthodes basées sur le gradient ou la hessienne par rapport à $a$ et $b$.\n",
    "On peut aussi directement estimer le minimum à l'aide d'une expression analytique, ce que nous allons voir.\n",
    "\n",
    "### (\\*\\*) Solution analytique\n",
    "On démontre ici la solution analytique de la régression linéaire.\n",
    "\n",
    "On part de la forme générale où nos données sont un ensemble de paires $(x, y)$ où $x = (x_1, x_2, \\dotsc, x_D)$ est un vecteur contenant $D$ features\n",
    "et $y$ est un réel.\n",
    "Sans manque de généralité, on simplifie le calcul de $b$ en l'intégrant dans celui de $a$.\n",
    "Pour cela on remarque qu'il suffit d'ajouter une feature constante valant toujours $1$ à $x$, qui devient alors un vecteur à $D+1$ dimensions.\n",
    "La valeur de $a_{D+1}$ représente alors la valeur de $b$.\n",
    "Pour ne pas s'embêter, on garde un vecteur $x \\in \\mathbb{R}^D$ à $D$ dimensions afin d'alléger les notations.\n",
    "\n",
    "On pose :\n",
    "* $X \\in \\mathbb{R}^{N \\times D}$ : la matrice contenant les features $x$ de nos données.\n",
    "* $y \\in \\mathbb{R}^{N \\times 1}$ : vecteur contenant toutes les vraies valeurs à prédire.\n",
    "* $A \\in \\mathbb{R}^{D \\times 1}$ : vecteur de paramètre à apprendre.\n",
    "\n",
    "L'objectif peut être réécris ainsi :\n",
    "\n",
    "$$\n",
    "\\arg \\min_{A} \\frac{1}{N} (y - \\hat y)^T (y - \\hat y) = \\arg \\min_{A} \\frac{1}{N} (y - X A)^T (y - X A)\n",
    "$$\n",
    "\n",
    "Pour trouver l'expression de $A$ qui minimise cette MSE, on calcule son gradient par rapport à $A$ et on fixe celui-ci à 0.\n",
    "\n",
    "$$\\begin{align}\n",
    "\\nabla [ \\frac{1}{N} (y - X A)^T (y - X A) ] & = -\\frac{2}{N} X^T (y - X A) \\\\\n",
    "& = -\\frac{2}{N} X^T y + \\frac{2}{N} X^T X A \\\\\n",
    "& = 0\n",
    "\\end{align}$$\n",
    "\n",
    "On déduit alors facilement l'expression de $A$ :\n",
    "\n",
    "$$\n",
    "A = (X^T X)^{-1} X^T y\n",
    "$$\n",
    "\n",
    "L'inverse de $X^T X$ doit exister pour que cette formule soit valable.\n",
    "En pratique, le bruit dans $X$ lui permet d'éviter le cas difficile où $X^T X$ n'est pas inversible,\n",
    "mais si c'est quand même le cas il existe des [astuces](https://www.cs.cmu.edu/~aarti/Class/10315_Fall19/lecs/Lecture16.pdf) pour contourner le problème.\n",
    "\n",
    "Notez que cette démonstration est surtout utile pour le côté théorique du résultat.\n",
    "En pratique d'autres méthodes existent et sont numériquement plus stable ce qui donnera de meilleurs résultats."
   ]
  },
  {
   "cell_type": "markdown",
   "metadata": {},
   "source": [
    "## Exemple concret\n",
    "On va maintenant utiliser le dataset [*California Housing*](https://scikit-learn.org/stable/datasets/real_world.html#california-housing-dataset) comme exemple plus réaliste que le précédent.\n",
    "Ce dataset contient plusieurs caractéristiques sur des maisons de Californie ainsi que leur prix de vente.\n",
    "Le but est de faire une régression linéaire capable de prédire le prix des maisons à partir des autres caractéristiques.\n",
    "\n",
    "On calcule l'inverse d'une matrice à l'aide de `numpy`."
   ]
  },
  {
   "cell_type": "code",
   "execution_count": 6,
   "metadata": {},
   "outputs": [
    {
     "name": "stdout",
     "output_type": "stream",
     "text": [
      "Caractéristiques : MedInc HouseAge AveRooms AveBedrms Population AveOccup Latitude Longitude\n",
      "\n",
      "Performances :\n",
      "MSE = 0.524\n",
      "R² = 0.606\n"
     ]
    }
   ],
   "source": [
    "from sklearn.datasets import fetch_california_housing\n",
    "\n",
    "dataset = fetch_california_housing()\n",
    "print('Caractéristiques :', *dataset['feature_names'])\n",
    "\n",
    "X, y = dataset['data'], dataset['target']\n",
    "# Ajoute la feature constante associée à b (voir partie \"Solution analytique\")\n",
    "b_feature = np.ones((X.shape[0], 1))\n",
    "X = np.concatenate([X, b_feature], axis=1)\n",
    "\n",
    "A = np.linalg.inv(X.T @ X) @ X.T @ y\n",
    "y_pred = X @ A\n",
    "\n",
    "r2 = r2_score(y, y_pred)\n",
    "mse = mean_squared_error(y, y_pred)\n",
    "\n",
    "print('\\nPerformances :')\n",
    "print(f'MSE = {mse:.3f}')\n",
    "print(f'R² = {r2:.3f}')"
   ]
  },
  {
   "cell_type": "markdown",
   "metadata": {},
   "source": [
    "Une fois le dataset chargé, le reste ne prends que quelques lignes en Python !\n",
    "\n",
    "Une fois que l'on a calculé $A$, on peut facilement faire de nouvelles prédictions à l'aide de features collectées sur une maison\n",
    "dont vous ne savez pas le prix."
   ]
  },
  {
   "cell_type": "markdown",
   "metadata": {},
   "source": [
    "## Avantages de la régression linéaire\n",
    "Pour le moment, nous n'avons vu que la régression linéaire comme modèle de régression.\n",
    "Lorsque vous en connaîtrez plusieurs, il sera utile de connaître les différents avantages de chaque méthode afin de mieux\n",
    "apréhender les performances de vos modèles et de mieux les comparer.\n",
    "\n",
    "### Simplicité\n",
    "Le modèle linéaire est simple. Cela peut lui faire défaut lorsque la relation $(x, y)$ est trop complexe pour être modélisée par une combinaison linéaire.\n",
    "Mais lorsque la linéairité s'applique, au moins un peu, alors c'est une force.\n",
    "[Les explications simples](https://fr.wikipedia.org/wiki/Rasoir_d%27Ockham) sont souvent celles qui se rapprochent le plus de la vérité.\n",
    "Nous verrons dans les chapitres suivants comment la simplicité permet de mieux généraliser à de nouveaux cas.\n",
    "\n",
    "### Interprétabilité\n",
    "Les coefficients $a$ et $b$ ont une interprétation naturelle sur le résultat de la prédiction.\n",
    "Un $a_i$ positif va contribuer positivement à la prédiction, et inversement si $a_i$ est négatif.\n",
    "On peut alors facilement déduire l'importance des features sur la prédiction (en prenant la valeur absolue de $a$),\n",
    "et mieux comprendre l'intéraction entre $x$ et $y$."
   ]
  },
  {
   "cell_type": "markdown",
   "metadata": {
    "id": "ZaOFDiUlmsqA"
   },
   "source": [
    "## Pour aller plus loin\n",
    "Il est possible de complexifier la relation $(x, y)$ modélisée par notre régression linéaire sans rien changer au fonctionnement de la méthode.\n",
    "On peut transformer les features afin d'en créer de nouvelles et les ajouter à la liste des features déjà existantes.\n",
    "Si par exemples vous mettez le carré de chaque feature en plus, vous serez capable de modéliser une relation quadratique entre vos features et votre $y$.\n",
    "Dans le cas où on ajoute des puissances de features à notre ensemble de features, on dit que l'on fait *une régression polynomiale*.\n",
    "\n",
    "La régression linéaire peut aussi facilement se transformer pour faire de la classification binaire.\n",
    "Une façon simple de faire serait de considérer $y \\in \\{-1, 1\\}$ et d'entraîner un modèle comme si on faisait de la régression sur $y$.\n",
    "Une méthode un peu plus complexe mais bien plus performante serait d'appliquer une *sigmoid* en sortie du modèle et d'entraîner\n",
    "le modèle en minimisant la *binary cross-entropy*.\n",
    "Cette méthode se nomme d'ailleurs la [*régression logistique*](https://fr.wikipedia.org/wiki/R%C3%A9gression_logistique) de part sa similarité avec la régression linéaire."
   ]
  },
  {
   "cell_type": "markdown",
   "metadata": {},
   "source": [
    "## Conclusion\n",
    "* La régression linéaire est un modèle qui prédit $y$ en faisant une combinaison linéaire des features $x$.\n",
    "* La MSE et le R² sont deux bonnes métriques pour évaluer les performances d'une régression.\n",
    "* Pour apprendre les paramètres de la régression linéaire, on peut utiliser la MSE comme fonction de perte.\n",
    "* La régression linéaire a comme force qu'elle est simple et interprétable."
   ]
  },
  {
   "cell_type": "markdown",
   "metadata": {
    "id": "_7iPLkDXmvtg",
    "tags": []
   },
   "source": [
    "## Sources\n",
    "* [Régression linéaire, Univ de Toulouse](https://www.math.univ-toulouse.fr/~besse/Wikistat/pdf/st-l-inf-regsim.pdf)\n",
    "* [Régression linéaire, Univ D'Ency](http://univ.ency-education.com/uploads/1/3/1/0/13102001/secg_lessons06-regression_lineaire.pdf)\n",
    "* [Régression linéaire régularisée, Carnegie Mellon University](https://www.cs.cmu.edu/~aarti/Class/10315_Fall19/lecs/Lecture16.pdf)\n",
    "* [California Housing dataset](https://www.dcc.fc.up.pt/~ltorgo/Regression/cal_housing.html)\n",
    "* [Coefficient de détermination, page wiki](https://en.wikipedia.org/wiki/Coefficient_of_determination)\n",
    "* [Régression logistique, page wiki](https://fr.wikipedia.org/wiki/R%C3%A9gression_logistique)"
   ]
  },
  {
   "cell_type": "code",
   "execution_count": null,
   "metadata": {},
   "outputs": [],
   "source": []
  }
 ],
 "metadata": {
  "colab": {
   "collapsed_sections": [],
   "name": "Regression linéaire",
   "provenance": []
  },
  "kernelspec": {
   "display_name": "Python 3 (ipykernel)",
   "language": "python",
   "name": "python3"
  },
  "language_info": {
   "codemirror_mode": {
    "name": "ipython",
    "version": 3
   },
   "file_extension": ".py",
   "mimetype": "text/x-python",
   "name": "python",
   "nbconvert_exporter": "python",
   "pygments_lexer": "ipython3",
   "version": "3.10.4"
  }
 },
 "nbformat": 4,
 "nbformat_minor": 4
}
