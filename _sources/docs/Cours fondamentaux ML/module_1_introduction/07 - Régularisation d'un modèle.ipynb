{
 "cells": [
  {
   "cell_type": "markdown",
   "id": "53c4e0fe-b558-480e-acd1-7b7f5a18333d",
   "metadata": {},
   "source": [
    "# Régularisation d'un modèle\n",
    "La régularisation est une des méthodes les plus utilisées pour réduire le sur-apprentissage d'un modèle.\n",
    "Dans ce chapitre, nous allons explorer les régularisations classiques et observer leur impact sur les\n",
    "performances d'un modèle."
   ]
  },
  {
   "cell_type": "markdown",
   "id": "a4c8b043-e06b-48f4-81df-02d11f487583",
   "metadata": {
    "tags": []
   },
   "source": [
    "## Comment fonctionne la régularisation\n",
    "Le principe général est de contraindre les paramètres appris par un modèle.\n",
    "Pour ce faire, on peut ajouter un terme supplémentaire dans la fonction de loss\n",
    "que l'on souhaite minimiser.\n",
    "Ce terme supplémentaire compte comme une pénalité, elle permet de réduire l'overfitting.\n",
    "\n",
    "*Mais pourquoi ajouter une pénalité permet de réduire l'overfitting ?*\n",
    "\n",
    "Cela peut paraître contre-intuitif, mais en fait réduire les capacités d'apprentissage d'un modèle\n",
    "peut l'aider à mieux généraliser !\n",
    "Si on reprend notre exemple du chapitre sur la généralisation, on peut imaginer qu'ajouter une pénalité\n",
    "à notre modèle revient à l'obliger à travailler avec un kit réduit d'outils à sa disposition.\n",
    "Il va être obliger de faire avec moins, et donc il ne pourra pas sur-optimiser son apprentissage sur\n",
    "les exercices d'entraînement (les petites corrélations qui améliorent marginalement les performances\n",
    "mais qui se trouvent inutiles voire désastreuses lors de l'évaluation sur de nouveaux exercices).\n",
    "\n",
    "D'une certaine manière, ajouter une pénalité sur les paramètres du modèle revient à demander au modèle\n",
    "de trouver une solution simple et efficace au problème donné. Cette solution est\n",
    "[généralement la meilleure](https://fr.wikipedia.org/wiki/Rasoir_d%27Ockham) !\n",
    "\n",
    "Nous allons voir particulièrement deux façons de régulariser un modèle : la régularisation L1 et L2.\n",
    "Nous les verrons appliquées à la regression linéaire, mais il faut savoir que ces méthodes sont générales et s'appliquent\n",
    "à tout type de modèle paramétrique."
   ]
  },
  {
   "cell_type": "markdown",
   "id": "bb1210c5-11fb-4a16-a68c-ceaf14187290",
   "metadata": {},
   "source": [
    "## Dataset exemple\n",
    "Afin de mieux se rendre compte de l'impact de la régularisation sur nos modèles, nous utilisons un dataset fictif.\n",
    "Pour simplifier la lecture, nous n'utilisons pas de jeu de validation ici, car nous choisissons d'uniquement comparer\n",
    "les performances finales de généralisation de nos modèles sans faire de recherche d'hyperparamètre.\n",
    "Cependant, gardez en tête qu'en cas réel, il faut aussi générer le jeu de validation et n'évaluer qu'un modèle final\n",
    "sur le jeu de test.\n",
    "\n",
    "Le dataset est généré en ajoutant un fort bruit pour empêcher nos modèles linéaires de pouvoir prédire parfaitement `y`.\n",
    "Cela permet de faciliter l'overfitting de nos modèles si nous ne sommes pas prudent."
   ]
  },
  {
   "cell_type": "code",
   "execution_count": 1,
   "id": "9b314b9f-bcdf-460a-a117-cefd10a3d91e",
   "metadata": {},
   "outputs": [],
   "source": [
    "from sklearn.datasets import make_regression\n",
    "from sklearn.model_selection import train_test_split\n",
    "\n",
    "X, y = make_regression(\n",
    "    n_samples=15,\n",
    "    n_features=10,\n",
    "    n_informative=7,\n",
    "    noise=15,\n",
    "    random_state=1\n",
    ")\n",
    "\n",
    "X_train, X_test, y_train, y_test = train_test_split(X, y, test_size=0.2, random_state=1)"
   ]
  },
  {
   "cell_type": "markdown",
   "id": "883659d6-40c5-44e8-801e-a36a5ddfa7f1",
   "metadata": {},
   "source": [
    "## Régularisation L2\n",
    "La régularisation L2 demande à ce que la somme des carrés des paramètres soit la plus petite possible.\n",
    "C'est une fonction quadratique, elle est donc continue et dérivable en tout point ce qui est souvent apprécié.\n",
    "\n",
    "Mathématiquement on peut écrire :\n",
    "\n",
    "$$\\begin{align}\n",
    "\\text{L2}(w) & = \\sum_i w_i^2\\\\\n",
    "\\text{loss}_{\\text{final}}(w) & = \\text{loss}(w) + \\lambda \\text{L2}(w)\n",
    "\\end{align}$$\n",
    "\n",
    "Afin de moduler la force de pénalisation par rapport à la loss initiale, on définit un hyperparamètre $\\lambda$ qui est une constante positive\n",
    "choisie avant l'entraînement. Un $\\lambda$ trop gros empêchera le modèle d'apprendre (il ne pourra plus s'exprimer\n",
    "car la moindre modification de ses poids sera fortement pénalisée), mais un $\\lambda$ trop faible masquera l'effet\n",
    "de la régularisation.\n",
    "\n",
    "Cette régularisation (ainsi que la L1 juste après) pousse le modèle à apprendre des coefficients pas trop éloignés de 0.\n",
    "Il doit équilibrer son entraînement afin de réduire la loss principale et éviter d'avoir une pénalité élevée. \n",
    "Intuitivement, le modèle est contraint à simplifier sa prédiction.\n",
    "Il ne peut pas affiner ses prédictions, ce qui le rend moins précis sur le jeu d'entraînement\n",
    "mais qui réduit la chance de sur-apprentissage.\n",
    "\n",
    "On parle de *Ridge Regression* lorsque l'on fait une régression linéaire couplée à une régularisation L2."
   ]
  },
  {
   "cell_type": "markdown",
   "id": "bcf04fd4-2d73-476e-88ab-abfc231468dc",
   "metadata": {},
   "source": [
    "### Exemple\n",
    "Dans `scikit-learn`, le modèle permettant de faire une régression linéaire avec régularisation L2 se nomme `Ridge`."
   ]
  },
  {
   "cell_type": "code",
   "execution_count": 2,
   "id": "c2f0ef3c-f8bc-431e-8067-0b94a9587972",
   "metadata": {},
   "outputs": [
    {
     "name": "stdout",
     "output_type": "stream",
     "text": [
      "Ridge regression avec une valeur de lambda = 0\n",
      "L2(w) = 49709.83\n",
      "R² sur le jeu d'entraînement: 1.000\n",
      "R² sur le jeu de test: 0.476\n",
      "\n",
      "Ridge regression avec une valeur de lambda = 1\n",
      "L2(w) = 15137.40\n",
      "R² sur le jeu d'entraînement: 0.972\n",
      "R² sur le jeu de test: 0.786\n"
     ]
    }
   ],
   "source": [
    "from sklearn.linear_model import Ridge\n",
    "\n",
    "def train_ridge(lambda_value: float):\n",
    "    print(f'Ridge regression avec une valeur de lambda = {lambda_value}')\n",
    "    model = Ridge(lambda_value)\n",
    "    model.fit(X_train, y_train)\n",
    "\n",
    "    coefs = model.coef_\n",
    "    print(f'L2(w) = {(coefs ** 2).sum():.2f}')\n",
    "\n",
    "    r2 = model.score(X_train, y_train)\n",
    "    print(f\"R² sur le jeu d'entraînement: {r2:.3f}\")\n",
    "\n",
    "    r2 = model.score(X_test, y_test)\n",
    "    print(f\"R² sur le jeu de test: {r2:.3f}\")\n",
    "\n",
    "train_ridge(0)\n",
    "print('')\n",
    "train_ridge(1)"
   ]
  },
  {
   "cell_type": "markdown",
   "id": "050c22c4-98fb-4857-87ce-bc60b562c6e9",
   "metadata": {},
   "source": [
    "Le modèle sans régularisation ($\\lambda = 0$) a sur-appris par rapport au second modèle !\n",
    "On s'aperçoit que c'est bien le modèle ayant la pénalité $\\text{L2}(w)$ la plus faible qui généralise mieux."
   ]
  },
  {
   "cell_type": "markdown",
   "id": "7c2b26f7-f38f-43fe-a14d-c2da963600c2",
   "metadata": {},
   "source": [
    "## Régularisation L1\n",
    "La régularisation L1 contraint la norme L1 des paramètres à être la plus petite possible.\n",
    "Elle n'est pas dérivable en 0, mais ce n'est pas gênant en pratique.\n",
    "\n",
    "$$\\begin{align}\n",
    "\\text{L1}(w) & = \\sum_i |w_i| \\\\\n",
    "\\text{loss}_{\\text{final}}(w) & = \\text{loss}(w) + \\lambda \\text{L1}(w)\n",
    "\\end{align}$$\n",
    "\n",
    "Cette régularisation a tendance à pousser des coefficients $w$ à valoir 0 exactement, ce qui est utile\n",
    "pour faire de la sélection de features. En effet, si une feature a un coefficient associé qui\n",
    "vaut exactement 0, alors on peut se débarasser de cette feature car elle n'influe clairement pas le calcul des prédictions !\n",
    "\n",
    "On parle de *Lasso Regression* lorsque l'on fait une régression linéaire couplée à une régularisation L1."
   ]
  },
  {
   "cell_type": "markdown",
   "id": "6a5221ba-bf8a-4a7b-92ba-13af9b7e90c9",
   "metadata": {},
   "source": [
    "### Exemple"
   ]
  },
  {
   "cell_type": "code",
   "execution_count": 3,
   "id": "a7d2500c-7d2f-4b18-847f-fcd43f841da5",
   "metadata": {},
   "outputs": [
    {
     "name": "stdout",
     "output_type": "stream",
     "text": [
      "LASSO regression avec une valeur de lambda = 0\n",
      "L2(w) = 49709.83\n",
      "Coefs nuls: 0\n",
      "R² sur le jeu d'entraînement: 1.000\n",
      "R² sur le jeu de test: 0.476\n",
      "\n",
      "LASSO regression avec une valeur de lambda = 3\n",
      "L2(w) = 18262.30\n",
      "Coefs nuls: 2\n",
      "R² sur le jeu d'entraînement: 0.981\n",
      "R² sur le jeu de test: 0.816\n"
     ]
    }
   ],
   "source": [
    "from sklearn.linear_model import Lasso, LinearRegression\n",
    "\n",
    "def train_lasso(lambda_value: float):\n",
    "    print(f'LASSO regression avec une valeur de lambda = {lambda_value}')\n",
    "    if lambda_value == 0:  # Problème de convergence du LASSO lorsque lambda = 0\n",
    "        model = LinearRegression()\n",
    "    else:\n",
    "        model = Lasso(lambda_value)\n",
    "    model.fit(X_train, y_train)\n",
    "\n",
    "    coefs = model.coef_\n",
    "    print(f'L2(w) = {(coefs ** 2).sum():.2f}')\n",
    "    print(f'Coefs nuls: {(coefs == 0).sum()}')\n",
    "\n",
    "    r2 = model.score(X_train, y_train)\n",
    "    print(f\"R² sur le jeu d'entraînement: {r2:.3f}\")\n",
    "\n",
    "    r2 = model.score(X_test, y_test)\n",
    "    print(f\"R² sur le jeu de test: {r2:.3f}\")\n",
    "\n",
    "train_lasso(0)\n",
    "print('')\n",
    "train_lasso(3)"
   ]
  },
  {
   "cell_type": "markdown",
   "id": "47e79cef-7362-48bf-86a1-0956b0175612",
   "metadata": {},
   "source": [
    "Comme pour l'exemple précédent, le modèle qui généralise le mieux est celui qui est régularisé.\n",
    "On remarque de plus que le modèle régularisé a décidé que deux des features étaient inintéressantes pour la prédiction.\n",
    "C'est cohérent car nous avons généré le dataset à l'aide de 7 features informatives parmis 10 features au total\n",
    "(il y a donc 3 features qui ne servent pas à la prédiction, et qui sont présentes uniquement pour brouiller le modèle)."
   ]
  },
  {
   "cell_type": "markdown",
   "id": "4b17c723-067a-4c54-b478-919bed2abbe5",
   "metadata": {},
   "source": [
    "## L1 vs L2 : que choisir ?\n",
    "Nous connaissons maitenant deux méthodes qui permettent de régulariser facilement un modèle.\n",
    "\n",
    "*Comment choisir entre les deux ? Laquelle est la meilleure ?*\n",
    "\n",
    "Pour mieux comprendre la différence entre les deux méthodes on peut visualiser les solutions engendrées par l'utilisation\n",
    "de l'une ou l'autre façon de régulariser."
   ]
  },
  {
   "cell_type": "markdown",
   "id": "57125e6e-484d-4e7b-a964-67287c3b98fa",
   "metadata": {},
   "source": [
    "### Visualisation L1 vs L2\n",
    "Pour mieux visualiser leur effet sur l'entraînement de nos modèles, nous pouvons considérer un cas simple où nous\n",
    "avons deux paramètres $w_1$ et $w_2$ à entraîner. On peut reformuler les problèmes de minimisation comme des problèmes\n",
    "de minimisation sous contraintes :\n",
    "\n",
    "$$\\begin{align}\n",
    "\\arg \\min_{w_1, w_2} \\text{loss}(w_1, w_2) + \\lambda (|w_1| + |w_2|)\n",
    "& \\iff \\arg \\min_{|w_1| + |w_2| \\leq \\beta} \\text{loss}(w_1, w_2) \\\\\n",
    "\\arg \\min_{w_1, w_2} \\text{loss}(w_1, w_2) + \\lambda (w_1^2 + w_2^2)\n",
    "& \\iff \\arg \\min_{w_1^2 + w_2^2 \\leq \\beta} \\text{loss}(w_1, w_2)\n",
    "\\end{align}$$\n",
    "\n",
    "Ces deux façons de voir le problème sont équivalentes. $\\beta$ est inversement proportionnel à $\\lambda$.\n",
    "On peut ainsi tracer les courbes de niveaux du loss en fonction des valeurs de $w_1$ et $w_2$ et visualiser\n",
    "les zones où les contraintes sont satisfaites (l'espace des solutions réalisables).\n",
    "\n",
    ":::{figure-md} L1vsL2-fig\n",
    "<img src=\"src/L1vsL2.png\" alt=\"L1vsL2\">\n",
    "\n",
    "Visualisation de la régularisation L1 (à gauche) et L2 (à droite).\n",
    ":::\n",
    "\n",
    "Comme on peut le voir, la régularisation L1 impose des solutions dans un espace en forme de diamant, alors\n",
    "que la L2 génère un espace de solutions en forme de cercle.\n",
    "La solution optimale sans régularisation est représentée par le point $w^*$.\n",
    "Le loss ici est une simple *MSE*, dont les courbes de niveaux tracent des ellipses de plus en plus grandes autour du minimum $w^*$.\n",
    "La solution obtenue avec régularisation est représentée par le point $\\hat w$.\n",
    "\n",
    "*Visuellement, la solution optimale $\\hat w$ est à la jonction\n",
    "entre les courbes de niveau du loss et la frontière de l'espace des solutions.*\n",
    "\n",
    "Ainsi, il est aisé de comprendre pourquoi la régularisation L1 pousse plus facilement les coefficients $\\hat w$ vers 0.\n",
    "En prenant un point $w^*$ au hasard sur le plan 2D, il est plus probable que la projection des courbes de niveaux sur le\n",
    "diamant arrive sur un des angles !"
   ]
  },
  {
   "cell_type": "markdown",
   "id": "4deee7bb-9717-40be-96c9-37cecbfe8ebf",
   "metadata": {},
   "source": [
    "### Comment choisir ?\n",
    "En pratique, les deux méthodes peuvent donner de meilleurs résultats. Dans notre exemple, c'est la normalisation L1 qui s'en sort le mieux (puisque son $R^2$ est plus élevé sur le jeu de test), mais ça pourrait très bien être l'inverse !\n",
    "Le mieux est de tester les deux méthodes et de comparer les performances des modèles sur le jeu de validation.\n",
    "\n",
    "Rien n'empêche d'utiliser à la fois la régularisation L1 et L2. Lorsque les deux méthodes sont utilisées pour une\n",
    "régression linéaire, on dit que l'on utilise une méthode *Elastic Net*. En pratique, c'est *Elastic Net* qui a tendance à donner\n",
    "de meilleurs résultats que la L1 ou la L2 pris séparéments.\n",
    "\n",
    "Les deux méthodes ont quand même chacune leur avantage :\n",
    "* L2 est dérivable en tout point, ce qui peut aider pour certains algorithmes d'optimisation.\n",
    "* L1 permet de sélectionner les features utiles pour la prédiction.\n",
    "\n",
    "Parce que la L2 est dérivable partout, elle est généralement préférée. Elle permet de ne pas se soucier du cas particulier\n",
    "où la dérivée n'est pas définie. Cependant, sachez en pratique ne pas être dérivable en un unique point est rarement dérangeant."
   ]
  },
  {
   "cell_type": "markdown",
   "id": "37e7ce37-d2dc-4686-84ab-f9563137ff7b",
   "metadata": {},
   "source": [
    "## Et les autres régularisations ?\n",
    "Il est possible de régulariser le modèle de plusieurs façons possibles. Les autres façons de régulariser\n",
    "dépendent beaucoup du modèle et de la tâche qui sont considérés.\n",
    "\n",
    "Par exemple dans le chapitre sur la généralisation, nous avons régularisé nos régressions polynomiales sans même le savoir.\n",
    "En effet, on a contraint les capacités du modèle en choisissant de limiter le degré maximal de notre polynôme !\n",
    "(*Peut-on vraiment parler de régularisation pour ce cas là ?*)\n",
    "\n",
    "D'autres régularisations existent donc. Elles sont souvent spécifiques au type de modèle choisi, et se découvrent\n",
    "donc petit à petit en même temps que l'on apprend à utiliser d'autres modèles.\n",
    "La L1 et L2 sont quand même les deux régularisations les plus utilisées et il est important de les connaître."
   ]
  },
  {
   "cell_type": "markdown",
   "id": "3a0e5e4d-0843-4130-b9fc-badf5ef6578d",
   "metadata": {},
   "source": [
    "## Conclusion\n",
    "* La régularisation est une technique permettant de réduire l'overfitting des modèles de ML.\n",
    "* En général, le but d'une régularisation est de réduire la complexité du modèle.\n",
    "Elle s'exprime sous forme de pénalité ajoutée à la loss du modèle.\n",
    "* Les deux méthodes de régularisation les plus utilisées sont la L1 et L2.\n",
    "Elles poussent toutes les deux les coefficients des modèles vers 0."
   ]
  },
  {
   "cell_type": "markdown",
   "id": "92b3f8fb-e11b-48ab-861c-5787d9a39e11",
   "metadata": {},
   "source": [
    "## Sources\n",
    "* [Linear Algebra and Learning from Data, Gilbert Strang, 2019](https://math.mit.edu/~gs/learningfromdata/)\n",
    "* [L1 vs L2, Terence Parr](https://explained.ai/regularization/L1vsL2.html)"
   ]
  },
  {
   "cell_type": "code",
   "execution_count": null,
   "id": "a2e44220-3790-47b1-a809-c954c1cf259b",
   "metadata": {},
   "outputs": [],
   "source": []
  }
 ],
 "metadata": {
  "interpreter": {
   "hash": "3cab9db4b504477df71a62a4b8bf17aea5a56b673af41c52bcbfc3e00b7b218e"
  },
  "kernelspec": {
   "display_name": "Python 3.10.2 64-bit",
   "language": "python",
   "name": "python3"
  },
  "language_info": {
   "codemirror_mode": {
    "name": "ipython",
    "version": 3
   },
   "file_extension": ".py",
   "mimetype": "text/x-python",
   "name": "python",
   "nbconvert_exporter": "python",
   "pygments_lexer": "ipython3",
   "version": "3.10.2"
  }
 },
 "nbformat": 4,
 "nbformat_minor": 5
}
