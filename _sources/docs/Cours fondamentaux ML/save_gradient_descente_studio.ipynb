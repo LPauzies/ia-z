{
 "cells": [
  {
   "cell_type": "markdown",
   "id": "5f5c23f2-4b63-436b-82e7-8b377053b407",
   "metadata": {},
   "source": [
    "### Optimisation des paramètres :\n",
    "*Encore une fois, il existe plusieurs manières de calculer les paramètres optimaux d'une régression linéaire et il serait difficile de toutes les lister. Nous allons donc traiter ici de la technique la plus commune*\n",
    "\n",
    "Le but de l'optimisation est de modifier les paramètres du modèle pour minimiser l'erreur. Nous allons pour cela utiliser l'outil gradient.\n",
    "\n",
    "Pour rappel on appel le gradient d'une fonction à n variables est l'application qui associe à f un vecteur dont les composantes sont les dérivées partielles par rapport à chacune des variables de f :\n",
    "<br><br>\n",
    "$\n",
    "\\nabla f(\\left.x_{1}, x_{2}, \\ldots, x_{n}\\right)=\\left[\\begin{array}{c}\n",
    "\\dfrac{\\partial f}{\\partial x_1} \\\\\n",
    "\\dfrac{\\partial f}{\\partial x_2} \\\\\n",
    "\\vdots \\\\\n",
    "\\dfrac{\\partial f}{\\partial x_n}\n",
    "\\end{array}\\right]\n",
    "$\n",
    "\n",
    "<br>\n",
    "\n",
    "Calculer le gradient de notre fonction coût va nous renseigner sur ses variations et fournira des des informations sur la manière dont on doit faire varier les paramètres pour minimiser l'erreur.\n"
   ]
  },
  {
   "cell_type": "markdown",
   "id": "31a386b3-9af3-4d4d-972d-2cbb3ecd0007",
   "metadata": {},
   "source": [
    "### Calcul du gradient :\n",
    "Dans cette section, nous allons calculer ensemble le gradient de la fonction coût. Si vous êtes adepte des maths, et que vous voulez une démonstration pas à pas, je vous invite à aller voir la [vidéo de MachinLearnIA](https://www.youtube.com/watch?v=wg7-roETbbM) qui sert de base à ce chapitre.\n",
    "\n",
    "\n",
    "Rappelons ce qui a été établi plus haut:\n",
    "- Le modèle $ŷ_i = a \\times x_i + b$\n",
    "- La fonction coût $S(y,ŷ) = \\frac{1}{2m} * \\sum_{i=0}^m (ŷ_i - y_i)²$\n",
    "\n",
    "\n",
    "Calculons les dérivées partielles de S par rapport aux paramètres a et b: <br>\n",
    "$\\frac{\\partial S}{\\partial a} = \\sum_{i=0}^m x_i \\times (ŷ_i - y_i)$ <br>\n",
    "$\\frac{\\partial S}{\\partial b} = \\sum_{i=0}^m (ŷ_i - y_i)$\n",
    "\n",
    "On peut remarquer qu'en posant :\n",
    "\n",
    "$X = \\left[\\begin{array}{c}{x_1\\\\\n",
    "\\vdots\\\\x_m} {1 \\\\ \\vdots \\\\ 1}\\end{array} \\right]$\n",
    "\n",
    "$Y =  \\left[\\begin{array}{c}\n",
    "{y_1\\\\ \\vdots \\\\ y_m}\\end{array}\\right]$\n",
    "\n",
    "$\\Theta =  \\left[\\begin{array}{c}\n",
    "{a \\\\ b}\\end{array}\\right]$\n",
    "\n",
    "On a alors :\n",
    "$∇S = \\frac{1}{m} \\times ^tX \\times (X\\Theta - Y)$\n",
    "\n"
   ]
  },
  {
   "cell_type": "markdown",
   "id": "31c1a7d5-ddcd-473e-a78d-8d26cde4d094",
   "metadata": {},
   "source": [
    "\n",
    "### Stratégie d'optimisation :\n",
    "Pour optimiser le modèle, l'idée est de réaliser un certain nombre d'itérations au cours desquelles nous allons modifier légèrement les paramètres a et b. Pour cela, à chaque itération, on calcule la nouvelle valeur de $\\Theta$ de la manière suivante :\n",
    "$\\Theta ' = \\Theta - \\alpha \\times ∇S$\n",
    "\n",
    "On pourrait avoir envie de retrancher simplement le gradient au vecteur $\\Theta$ mais dans certains cas, si la variation de S est trop importante, on pourrait se retrouver dans l'impossibilité de converger :\n",
    "\n",
    "-- Insérer animations explicatives sur gradient trop grand -- \n",
    "\n",
    "Pour résoudre ce problème, nous allons ajouter l'**hyperparamètre** $\\alpha$ à notre modèle. On l'appelle le `learning rate` et c'est un simple coefficient qui permet de pondérer le gradient lors du calcul de $\\Theta$ pour limiter la valeur du gradient. Nous ne traiterons pas plus de cet hyperparmamètre ici, cela sera traité dans le prochain chapitre."
   ]
  },
  {
   "cell_type": "markdown",
   "id": "95212a09-1dac-44a8-821d-3117e54d48e5",
   "metadata": {},
   "source": [
    "## Synthèse des calculs :\n",
    "- On a choisi un modèle de droite affine :  $ŷ_i= a x_i+ b$\n",
    "- On a choisi d’utiliser la fonction coût MSE qui s’écrit donc : $S(y,ŷ) = \\frac{1}{2m} * \\sum_{i=0}^m (ŷ_i - y_i)²$\n",
    "\n",
    "- On utilise l’algorithme de descente de gradient pour optimiser les paramètres avec cette formule : $\\Theta ' = \\Theta - \\alpha \\times ∇S$ \n",
    "\n",
    "\n",
    "Pour pouvoir calculer tout cela il nous faut définir 3 matrices : \n",
    "* X  : Une matrice qui contient les **données explicatives** (m données discrètes)\n",
    "* Y  : Une matrice qui contient les** données expliquées** tirées du dataset (m données discrètes). Ces données serviront à calibrer le modèle\n",
    "* $\\Theta$ : La matrice qui contient les **paramètres du modèle**. Les paramètres pourront être initialisés aléatoirement ou arbitrairement (exemple : a = 0 et b = 0)\n",
    "\n"
   ]
  },
  {
   "cell_type": "markdown",
   "id": "d6b88a68-a802-41aa-9760-acdccf1388b2",
   "metadata": {},
   "source": [
    "## Algorithme :\n",
    "Voici donc l’algorithme que je vous propose d’utiliser pour réaliser une régression linéaire simple :\n",
    "\n",
    "> Début\n",
    "\n",
    ">Importer/charger les données à traiter\n",
    "\n",
    ">Initialiser les 3 matrices X, Y, et $\\Theta$\n",
    "\n",
    ">Définir la fonction gradient\n",
    "\n",
    ">Faire n fois : <br>\n",
    "        &emsp;Retrancher à $\\Theta$ le produit du learning rate, de X et de $\\Theta$\n",
    "\n",
    "> Fin\n",
    "\n",
    "A ce stade, les paramètres ont été optimisés, ils peuvent être utilisés pour définir le modèle de droite affine qui servira à modéliser les données.\n",
    "\n"
   ]
  },
  {
   "cell_type": "code",
   "execution_count": 5,
   "id": "ba238eee-f4ac-41b9-8915-24d73abb152d",
   "metadata": {},
   "outputs": [],
   "source": [
    "# Imports\n",
    "import matplotlib.pyplot as plt\n",
    "from sklearn.datasets import load_diabetes\n",
    "import numpy as np\n",
    "import pandas"
   ]
  },
  {
   "cell_type": "markdown",
   "id": "1c6fd67a-2da5-42be-9d7d-a2cc6095a88b",
   "metadata": {},
   "source": [
    "## Le dataset :\n",
    "J'ai choisi d'utiliser un dataset qui est intégré dans la librairie Sklearn. L'objectif ici n'est pas d'apprendre à utiliser cette librairie, mais sachez tout de même qu'il s'agit d'une librairie python qui regroupe un très grand nombre de modèles de machine learning et quelques dataset.\n",
    "Le jeu de données choisi regroupe des données médicales de 420 personnes. Nous ne nous attarderons pas sur le contenu du jeu pour nous focaliser sur la mise en application d'une régression linéaire simple."
   ]
  },
  {
   "cell_type": "code",
   "execution_count": 6,
   "id": "917a0ba7-38a8-4852-9cbb-739efc0c92a4",
   "metadata": {},
   "outputs": [
    {
     "data": {
      "text/html": [
       "<div>\n",
       "<style scoped>\n",
       "    .dataframe tbody tr th:only-of-type {\n",
       "        vertical-align: middle;\n",
       "    }\n",
       "\n",
       "    .dataframe tbody tr th {\n",
       "        vertical-align: top;\n",
       "    }\n",
       "\n",
       "    .dataframe thead th {\n",
       "        text-align: right;\n",
       "    }\n",
       "</style>\n",
       "<table border=\"1\" class=\"dataframe\">\n",
       "  <thead>\n",
       "    <tr style=\"text-align: right;\">\n",
       "      <th></th>\n",
       "      <th>age</th>\n",
       "      <th>sex</th>\n",
       "      <th>bmi</th>\n",
       "      <th>bp</th>\n",
       "      <th>s1</th>\n",
       "      <th>s2</th>\n",
       "      <th>s3</th>\n",
       "      <th>s4</th>\n",
       "      <th>s5</th>\n",
       "      <th>s6</th>\n",
       "    </tr>\n",
       "  </thead>\n",
       "  <tbody>\n",
       "    <tr>\n",
       "      <th>count</th>\n",
       "      <td>4.420000e+02</td>\n",
       "      <td>4.420000e+02</td>\n",
       "      <td>4.420000e+02</td>\n",
       "      <td>4.420000e+02</td>\n",
       "      <td>4.420000e+02</td>\n",
       "      <td>4.420000e+02</td>\n",
       "      <td>4.420000e+02</td>\n",
       "      <td>4.420000e+02</td>\n",
       "      <td>4.420000e+02</td>\n",
       "      <td>4.420000e+02</td>\n",
       "    </tr>\n",
       "    <tr>\n",
       "      <th>mean</th>\n",
       "      <td>-3.639623e-16</td>\n",
       "      <td>1.309912e-16</td>\n",
       "      <td>-8.013951e-16</td>\n",
       "      <td>1.289818e-16</td>\n",
       "      <td>-9.042540e-17</td>\n",
       "      <td>1.301121e-16</td>\n",
       "      <td>-4.563971e-16</td>\n",
       "      <td>3.863174e-16</td>\n",
       "      <td>-3.848103e-16</td>\n",
       "      <td>-3.398488e-16</td>\n",
       "    </tr>\n",
       "    <tr>\n",
       "      <th>std</th>\n",
       "      <td>4.761905e-02</td>\n",
       "      <td>4.761905e-02</td>\n",
       "      <td>4.761905e-02</td>\n",
       "      <td>4.761905e-02</td>\n",
       "      <td>4.761905e-02</td>\n",
       "      <td>4.761905e-02</td>\n",
       "      <td>4.761905e-02</td>\n",
       "      <td>4.761905e-02</td>\n",
       "      <td>4.761905e-02</td>\n",
       "      <td>4.761905e-02</td>\n",
       "    </tr>\n",
       "    <tr>\n",
       "      <th>min</th>\n",
       "      <td>-1.072256e-01</td>\n",
       "      <td>-4.464164e-02</td>\n",
       "      <td>-9.027530e-02</td>\n",
       "      <td>-1.123996e-01</td>\n",
       "      <td>-1.267807e-01</td>\n",
       "      <td>-1.156131e-01</td>\n",
       "      <td>-1.023071e-01</td>\n",
       "      <td>-7.639450e-02</td>\n",
       "      <td>-1.260974e-01</td>\n",
       "      <td>-1.377672e-01</td>\n",
       "    </tr>\n",
       "    <tr>\n",
       "      <th>25%</th>\n",
       "      <td>-3.729927e-02</td>\n",
       "      <td>-4.464164e-02</td>\n",
       "      <td>-3.422907e-02</td>\n",
       "      <td>-3.665645e-02</td>\n",
       "      <td>-3.424784e-02</td>\n",
       "      <td>-3.035840e-02</td>\n",
       "      <td>-3.511716e-02</td>\n",
       "      <td>-3.949338e-02</td>\n",
       "      <td>-3.324879e-02</td>\n",
       "      <td>-3.317903e-02</td>\n",
       "    </tr>\n",
       "    <tr>\n",
       "      <th>50%</th>\n",
       "      <td>5.383060e-03</td>\n",
       "      <td>-4.464164e-02</td>\n",
       "      <td>-7.283766e-03</td>\n",
       "      <td>-5.670611e-03</td>\n",
       "      <td>-4.320866e-03</td>\n",
       "      <td>-3.819065e-03</td>\n",
       "      <td>-6.584468e-03</td>\n",
       "      <td>-2.592262e-03</td>\n",
       "      <td>-1.947634e-03</td>\n",
       "      <td>-1.077698e-03</td>\n",
       "    </tr>\n",
       "    <tr>\n",
       "      <th>75%</th>\n",
       "      <td>3.807591e-02</td>\n",
       "      <td>5.068012e-02</td>\n",
       "      <td>3.124802e-02</td>\n",
       "      <td>3.564384e-02</td>\n",
       "      <td>2.835801e-02</td>\n",
       "      <td>2.984439e-02</td>\n",
       "      <td>2.931150e-02</td>\n",
       "      <td>3.430886e-02</td>\n",
       "      <td>3.243323e-02</td>\n",
       "      <td>2.791705e-02</td>\n",
       "    </tr>\n",
       "    <tr>\n",
       "      <th>max</th>\n",
       "      <td>1.107267e-01</td>\n",
       "      <td>5.068012e-02</td>\n",
       "      <td>1.705552e-01</td>\n",
       "      <td>1.320442e-01</td>\n",
       "      <td>1.539137e-01</td>\n",
       "      <td>1.987880e-01</td>\n",
       "      <td>1.811791e-01</td>\n",
       "      <td>1.852344e-01</td>\n",
       "      <td>1.335990e-01</td>\n",
       "      <td>1.356118e-01</td>\n",
       "    </tr>\n",
       "  </tbody>\n",
       "</table>\n",
       "</div>"
      ],
      "text/plain": [
       "                age           sex           bmi            bp            s1  \\\n",
       "count  4.420000e+02  4.420000e+02  4.420000e+02  4.420000e+02  4.420000e+02   \n",
       "mean  -3.639623e-16  1.309912e-16 -8.013951e-16  1.289818e-16 -9.042540e-17   \n",
       "std    4.761905e-02  4.761905e-02  4.761905e-02  4.761905e-02  4.761905e-02   \n",
       "min   -1.072256e-01 -4.464164e-02 -9.027530e-02 -1.123996e-01 -1.267807e-01   \n",
       "25%   -3.729927e-02 -4.464164e-02 -3.422907e-02 -3.665645e-02 -3.424784e-02   \n",
       "50%    5.383060e-03 -4.464164e-02 -7.283766e-03 -5.670611e-03 -4.320866e-03   \n",
       "75%    3.807591e-02  5.068012e-02  3.124802e-02  3.564384e-02  2.835801e-02   \n",
       "max    1.107267e-01  5.068012e-02  1.705552e-01  1.320442e-01  1.539137e-01   \n",
       "\n",
       "                 s2            s3            s4            s5            s6  \n",
       "count  4.420000e+02  4.420000e+02  4.420000e+02  4.420000e+02  4.420000e+02  \n",
       "mean   1.301121e-16 -4.563971e-16  3.863174e-16 -3.848103e-16 -3.398488e-16  \n",
       "std    4.761905e-02  4.761905e-02  4.761905e-02  4.761905e-02  4.761905e-02  \n",
       "min   -1.156131e-01 -1.023071e-01 -7.639450e-02 -1.260974e-01 -1.377672e-01  \n",
       "25%   -3.035840e-02 -3.511716e-02 -3.949338e-02 -3.324879e-02 -3.317903e-02  \n",
       "50%   -3.819065e-03 -6.584468e-03 -2.592262e-03 -1.947634e-03 -1.077698e-03  \n",
       "75%    2.984439e-02  2.931150e-02  3.430886e-02  3.243323e-02  2.791705e-02  \n",
       "max    1.987880e-01  1.811791e-01  1.852344e-01  1.335990e-01  1.356118e-01  "
      ]
     },
     "execution_count": 6,
     "metadata": {},
     "output_type": "execute_result"
    }
   ],
   "source": [
    "# Chargement du dataset\n",
    "data, targets = load_diabetes(return_X_y=True, as_frame=True)\n",
    "data.describe() # Résumé des données"
   ]
  },
  {
   "cell_type": "markdown",
   "id": "7728bc40-78e0-4c7d-95bc-ad29f6422b14",
   "metadata": {},
   "source": [
    "### Notre objet d'étude :\n",
    "Je vous propose de travailler sur le lien entre l'age de la personne et sa mesure s6. On sélectionne donc les 2 colonnes du dataframe importé [--insérer lien vers indexage avec panda--]\n",
    "On commence par tracer les points de données avec l'âge en abscisses et la mesure s6 en ordonnées.\n",
    "On obtient le nuage de points suivant"
   ]
  },
  {
   "cell_type": "code",
   "execution_count": 7,
   "id": "271ed9b6-e411-4642-95f6-5bc013ff7174",
   "metadata": {},
   "outputs": [
    {
     "name": "stdout",
     "output_type": "stream",
     "text": [
      "(442,) (442,)\n"
     ]
    },
    {
     "data": {
      "image/png": "[encoded data removed]",
      "text/plain": [
       "<Figure size 432x288 with 1 Axes>"
      ]
     },
     "metadata": {
      "needs_background": "light"
     },
     "output_type": "display_data"
    }
   ],
   "source": [
    "# Sélection des 2 colonnes de données\n",
    "age, s6= data[\"age\"], data[\"s6\"]\n",
    "print(age.shape, s6.shape)\n",
    "# Tracé du nuage de point\n",
    "plt.scatter(age, s6)\n",
    "plt.xlabel(\"Age des personnes\")\n",
    "plt.ylabel(\"S6\")\n",
    "plt.title(\"Mesure de s6 en fonction de l'âge du patient\")\n",
    "plt.show()"
   ]
  },
  {
   "cell_type": "markdown",
   "id": "7a9ba03f-c94c-4cdf-a05b-557c457397bb",
   "metadata": {},
   "source": [
    "### Analyse rapide des données :\n",
    "On remarque qu'il se dégage une tendance dans ce nuage de ponts. Ils semblent s'aligner autour d'une droite de pente proche de 0.5 :\n",
    "![données_avec_reg.png](data:image/png;base64,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)\n",
    "\n",
    "\n",
    "\n",
    "Nous allons mettre en oeuvre un régression linéaire qui nous le confirmera."
   ]
  },
  {
   "cell_type": "code",
   "execution_count": 8,
   "id": "2352a09b-ecf7-4eae-afc7-4b2d1cb5c3a9",
   "metadata": {},
   "outputs": [
    {
     "name": "stdout",
     "output_type": "stream",
     "text": [
      "X shape :  (442, 2)   Y shape :  (442, 1) Theta shape :  (2, 1)\n"
     ]
    }
   ],
   "source": [
    "# Définition des matrices X, Y et Theta\n",
    "X = np.stack((age, np.ones(age.shape)), axis=-1) # Ajout d'une colonne de biais aux données\n",
    "Y = np.array(s6).reshape(s6.shape[0], 1)\n",
    "Theta = np.random.randn(2, 1)\n",
    "Theta_init = Theta.copy() # On copie les paramètres initiaux pour comparer ensuite les modèles optimisé et initial\n",
    "\n",
    "print(\"X shape : \", X.shape, \"  Y shape : \", Y.shape, \"Theta shape : \", Theta.shape) # Vérification des tailles de chaque matrice"
   ]
  },
  {
   "cell_type": "markdown",
   "id": "e0a35839-c092-4f02-9183-ebccc9825dc4",
   "metadata": {},
   "source": [
    "# Définition des fonctions"
   ]
  },
  {
   "cell_type": "code",
   "execution_count": 9,
   "id": "04378219-6b98-4b17-93e7-eb95575e610e",
   "metadata": {},
   "outputs": [],
   "source": [
    "# Implémenter le calcul  et de son gradient\n",
    "def grad(X, Y, Theta):\n",
    "  m = len(Y)\n",
    "  return  1/m * X.T.dot(X.dot(Theta) - Y)\n",
    "\n",
    "def cost_function(X, Y, Theta):\n",
    "  m = len(Y)\n",
    "  return 1/(2*m) * np.sum((X.dot(Theta) - Y)**2)"
   ]
  },
  {
   "cell_type": "markdown",
   "id": "6b7df7cc-d88e-4a7f-8a42-9a1267da0a0f",
   "metadata": {},
   "source": [
    "# Optimisation des paramètres"
   ]
  },
  {
   "cell_type": "code",
   "execution_count": 10,
   "id": "b77b9000-a2e4-4a6a-8c12-6afcf8c75afd",
   "metadata": {},
   "outputs": [],
   "source": [
    "n = 1000 # Nombre d'itérations de l'optimisation\n",
    "lr = 0.01 # Learning rate : Pour régler la vitesse de convergence\n",
    "\n",
    "history = [] # Cet historique permettra de tracer l'évolution de l'erreur du modèle au cours des itérations\n",
    "\n",
    "# Apprentissage\n",
    "for i in range(n):\n",
    "  Theta -= grad(X, Y, Theta) # Mise à jour des paramètres\n",
    "  history.append(cost_function(X, Y, Theta)) # Enregistrement des paramètres dans l'historique\n",
    "\n",
    "param_opti = Theta.copy() # On stocke les paramètres optimisés dans une variable\n",
    "Y_prediction = X.dot(Theta) # On calcul les points de la droite"
   ]
  },
  {
   "cell_type": "markdown",
   "id": "dfdc2e68-dcbe-4348-a152-cd6a7681a777",
   "metadata": {},
   "source": [
    "# Analyse des résultats :\n",
    "On vient d'entraîner notre modèle, voyons ce que nous obtenons. On va commencer par afficher l'évolution de l'erreur au cours de l'entraînement, puis nous afficherons les courbes obtenues ainsi que les paramètres calculés."
   ]
  },
  {
   "cell_type": "code",
   "execution_count": 12,
   "id": "421631c5-e5ae-4f01-be27-06061fe006eb",
   "metadata": {},
   "outputs": [
    {
     "data": {
      "image/png": "[encoded data removed]",
      "text/plain": [
       "<Figure size 432x288 with 1 Axes>"
      ]
     },
     "metadata": {
      "needs_background": "light"
     },
     "output_type": "display_data"
    }
   ],
   "source": [
    "plt.plot(range(len(history)), history)\n",
    "plt.xlabel(\"Nombre de cycles d'entrainement\")\n",
    "plt.ylabel(\"Erreur entre le modèle et les données\")\n",
    "plt.title(f\"Evolution de l'erreur au cours de l'apprentissage avec un learning rate lr = {lr}\")\n",
    "plt.show()"
   ]
  },
  {
   "cell_type": "markdown",
   "id": "aa216871-c962-442f-a863-d53aed04404d",
   "metadata": {},
   "source": [
    "On voit que l'erreur converge bien vers un minimum. On peut jouer sur la valeur de $\\alpha$ pour ajuster la vitesse de convergence. Il faut cependant faire attention à ne pas utiliser de valeurs trop grandes qui empêcheraient la convergence !"
   ]
  },
  {
   "cell_type": "code",
   "execution_count": 13,
   "id": "3dca442d-ba83-49e2-9cd7-c57c02fd9158",
   "metadata": {},
   "outputs": [
    {
     "data": {
      "image/png": "[encoded data removed]",
      "text/plain": [
       "<Figure size 432x288 with 1 Axes>"
      ]
     },
     "metadata": {
      "needs_background": "light"
     },
     "output_type": "display_data"
    },
    {
     "name": "stdout",
     "output_type": "stream",
     "text": [
      "\n",
      "########### Paramètres ###########\n",
      "Paramètres initiaux : \n",
      " [[-0.89505036]\n",
      " [-1.99859576]]\n",
      "Paramètres optimisés : \n",
      " [[ 1.77469981e-01]\n",
      " [-2.75219080e-16]]\n"
     ]
    }
   ],
   "source": [
    "# Tracé des données\n",
    "plt.plot(age,  Y_prediction, \"r\")\n",
    "plt.plot(age,  X.dot(Theta_init), \"b\")\n",
    "plt.scatter(age,  Y)\n",
    "# Paramétrage du graphe\n",
    "plt.title(\"Mesure de s6 en fonction del'âge du patient\")\n",
    "plt.xlabel(\"Age\")\n",
    "plt.ylabel(\"s6\")\n",
    "plt.legend([\"Modèle optimisé\", \"Modèle non optimisé\", \"Données expérimentales\"])\n",
    "plt.show()\n",
    "print(\"\\n########### Paramètres ###########\")\n",
    "print(\"Paramètres initiaux : \\n\", Theta_init)\n",
    "print(\"Paramètres optimisés : \\n\", param_opti)"
   ]
  },
  {
   "cell_type": "markdown",
   "id": "ab60c33b-1880-4316-a2d7-c7224f8b9e99",
   "metadata": {},
   "source": [
    "On voit bien ici que le modèle initial est totalement à côté de la plaque, mais c'est normal, car à ce stade les paramètres ont été définis aléatoirement. Cependant on remarque qu'après optimisation, le modèle est plutôt fidèle à la réalité et suit bien le nuage de points.\n",
    "\n",
    "Notez que le nuage semble étiré par rapport aux graphes précédents, cela est du au changement d'échelle : les données ne descendent pas au dessous de -0.2 alors que le modèle initial a une ordonnées à l'origine de -0.8. Pour afficher tous les tracés sur la même figure matplotlib bibliothèque de tracés de graphes) a changé l'échelle."
   ]
  },
  {
   "cell_type": "code",
   "execution_count": null,
   "id": "d7635585-45ee-4bda-8ee2-b92a0e72d694",
   "metadata": {},
   "outputs": [],
   "source": []
  }
 ],
 "metadata": {
  "kernelspec": {
   "display_name": "Python 3 (ipykernel)",
   "language": "python",
   "name": "python3"
  },
  "language_info": {
   "codemirror_mode": {
    "name": "ipython",
    "version": 3
   },
   "file_extension": ".py",
   "mimetype": "text/x-python",
   "name": "python",
   "nbconvert_exporter": "python",
   "pygments_lexer": "ipython3",
   "version": "3.10.4"
  }
 },
 "nbformat": 4,
 "nbformat_minor": 5
}
