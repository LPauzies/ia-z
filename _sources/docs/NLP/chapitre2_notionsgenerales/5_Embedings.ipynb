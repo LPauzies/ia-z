{
 "cells": [
  {
   "cell_type": "markdown",
   "id": "abcaa4e5",
   "metadata": {},
   "source": [
    "# Embeddings\n",
    "\n",
    "## Sommaire\n",
    "* [Word2Vec](#word2vec)\n",
    "* [Glove: Global Vectors](#glove-global-vectors)\n",
    "* [Mesure de la similarité](#mesure-de-la-similarite)\n",
    "   * [Cosine similarity](#cosine-similarity)\n",
    "   * [Dot product](#dot-product)\n",
    "* [Exploration de topics: t-Distributed Stochastic Neighbor Embedding (t-SNE)](#exploration-de-topics-t-distributed-stochastic-neighbor-embedding-t-sne)\n",
    "\n",
    "## Word2Vec\n",
    "\n",
    "## Glove: Global Vectors\n",
    "\n",
    "## Mesure de la similarité\n",
    "\n",
    "### Cosine similarity:\n",
    "\n",
    "### Dot product:\n",
    "\n",
    "## Exploration de topics: t-Distributed Stochastic Neighbor Embedding (t-SNE)\n",
    "\n",
    "t-SNE est un algorithme d'apprentissage non supervisé permettant d'analyser des données décrites dans des espaces à forte dimensionnalité pour les représenter dans des espaces à deux ou trois dimensions, cet algorithme facilite la visualisation de données.\n",
    "\n",
    "Plus précisément cet algorithme trouve des patterns dans les données basé sur la similarité des représentations vectorielles (embeddings), les données proches dans l'espace original ont une probabilité élevée d'avoir une représentation proche dans le nouvel espace, dans le cadre du NLP on appelle ces regroupements des **topics**.\n",
    "\n",
    "t-SNE calcule donc une mesure de similarité entre des paires d'instances (ici mots) dans un espace à forte dimensionnalité et à la fois dans un espace à faible dimensionnalité, qu'il essaie ensuite d'optimiser à l'aide d'une fonction de coût.\n",
    "\n",
    "Nous décomposerons l'algorithme en 3 étapes:\n",
    "\n",
    "### I- Mesure des similarités entre les points dans un espace à forte dimensionnalité:\n",
    "\n",
    "Imaginez un ensemble de points représentant des données séparés sur un espace 2D.\n",
    "\n",
    "Pour chaque point ($x_i$) nous centrerons une distribution Gaussienne autour de ce point.\n",
    "\n",
    "Puis nous mesurons la densité de tous les points ($x_j$) dans cette distribution Gaussienne.\n",
    "\n",
    "\n",
    "\n",
    "### II-\n",
    "\n",
    "\n",
    "\n",
    "### III-\n",
    "\n",
    "\n",
    "url1 = https://towardsdatascience.com/an-introduction-to-t-sne-with-python-example-5a3a293108d1\n",
    "\n",
    "url2= https://almaan.github.io/post/2021-02-20-tsne/#:~:text=The%20t-SNE%20paper%20has%2017996%20citations%20%282021-02-20%2C%20Google,4%20citations%20a%20day%2C%20every%20day%20since%20published."
   ]
  },
  {
   "cell_type": "code",
   "execution_count": null,
   "id": "286dc737",
   "metadata": {},
   "outputs": [],
   "source": []
  }
 ],
 "metadata": {
  "kernelspec": {
   "display_name": "Python 3 (ipykernel)",
   "language": "python",
   "name": "python3"
  },
  "language_info": {
   "codemirror_mode": {
    "name": "ipython",
    "version": 3
   },
   "file_extension": ".py",
   "mimetype": "text/x-python",
   "name": "python",
   "nbconvert_exporter": "python",
   "pygments_lexer": "ipython3",
   "version": "3.9.7"
  }
 },
 "nbformat": 4,
 "nbformat_minor": 5
}
